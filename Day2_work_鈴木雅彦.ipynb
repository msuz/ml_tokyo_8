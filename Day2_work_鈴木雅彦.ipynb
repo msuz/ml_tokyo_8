{
 "cells": [
  {
   "cell_type": "markdown",
   "metadata": {},
   "source": [
    "# Day2宿題 - 鈴木雅彦"
   ]
  },
  {
   "cell_type": "markdown",
   "metadata": {},
   "source": [
    "## ライブラリとファイルの読み込み"
   ]
  },
  {
   "cell_type": "code",
   "execution_count": 1,
   "metadata": {},
   "outputs": [],
   "source": [
    "%matplotlib inline\n",
    "import pandas as pd\n",
    "import numpy as np\n",
    "import matplotlib.pyplot as plt\n",
    "from sklearn.linear_model import SGDClassifier\n",
    "from sklearn.model_selection import train_test_split # ホールドアウト法に関する関数\n",
    "from sklearn.model_selection import KFold # 交差検証法に関する関数\n",
    "from sklearn.metrics import log_loss # 分類問題における性能評価に関する関数\n",
    "from sklearn.metrics import accuracy_score # 〃\n",
    "from sklearn.metrics import precision_score # 〃\n",
    "from sklearn.metrics import recall_score # 〃\n",
    "from sklearn.metrics import confusion_matrix # 〃"
   ]
  },
  {
   "cell_type": "code",
   "execution_count": 2,
   "metadata": {},
   "outputs": [
    {
     "name": "stderr",
     "output_type": "stream",
     "text": [
      "/Users/suzukimasahiko/anaconda3/envs/skillupai-ml-tokyo8-20181023/lib/python3.6/site-packages/IPython/core/interactiveshell.py:3020: DtypeWarning: Columns (13,14,15) have mixed types. Specify dtype option on import or set low_memory=False.\n",
      "  interactivity=interactivity, compiler=compiler, result=result)\n"
     ]
    }
   ],
   "source": [
    "df = pd.read_csv(\n",
    "    './data/ks-projects-201612.csv',\n",
    "    encoding = \"Windows-1252\"\n",
    ")"
   ]
  },
  {
   "cell_type": "markdown",
   "metadata": {},
   "source": [
    "## 汎化性能の確認"
   ]
  },
  {
   "cell_type": "code",
   "execution_count": 3,
   "metadata": {},
   "outputs": [
    {
     "data": {
      "text/plain": [
       "(1000, 3)"
      ]
     },
     "metadata": {},
     "output_type": "display_data"
    },
    {
     "data": {
      "text/plain": [
       "state         bool\n",
       "goal       float64\n",
       "backers    float64\n",
       "dtype: object"
      ]
     },
     "metadata": {},
     "output_type": "display_data"
    },
    {
     "data": {
      "text/html": [
       "<div>\n",
       "<style scoped>\n",
       "    .dataframe tbody tr th:only-of-type {\n",
       "        vertical-align: middle;\n",
       "    }\n",
       "\n",
       "    .dataframe tbody tr th {\n",
       "        vertical-align: top;\n",
       "    }\n",
       "\n",
       "    .dataframe thead th {\n",
       "        text-align: right;\n",
       "    }\n",
       "</style>\n",
       "<table border=\"1\" class=\"dataframe\">\n",
       "  <thead>\n",
       "    <tr style=\"text-align: right;\">\n",
       "      <th></th>\n",
       "      <th>state</th>\n",
       "      <th>goal</th>\n",
       "      <th>backers</th>\n",
       "    </tr>\n",
       "  </thead>\n",
       "  <tbody>\n",
       "    <tr>\n",
       "      <th>0</th>\n",
       "      <td>False</td>\n",
       "      <td>1000.0</td>\n",
       "      <td>0.0</td>\n",
       "    </tr>\n",
       "    <tr>\n",
       "      <th>1</th>\n",
       "      <td>False</td>\n",
       "      <td>45000.0</td>\n",
       "      <td>3.0</td>\n",
       "    </tr>\n",
       "    <tr>\n",
       "      <th>2</th>\n",
       "      <td>False</td>\n",
       "      <td>5000.0</td>\n",
       "      <td>1.0</td>\n",
       "    </tr>\n",
       "    <tr>\n",
       "      <th>4</th>\n",
       "      <td>True</td>\n",
       "      <td>50000.0</td>\n",
       "      <td>224.0</td>\n",
       "    </tr>\n",
       "    <tr>\n",
       "      <th>5</th>\n",
       "      <td>True</td>\n",
       "      <td>1000.0</td>\n",
       "      <td>16.0</td>\n",
       "    </tr>\n",
       "  </tbody>\n",
       "</table>\n",
       "</div>"
      ],
      "text/plain": [
       "   state     goal  backers\n",
       "0  False   1000.0      0.0\n",
       "1  False  45000.0      3.0\n",
       "2  False   5000.0      1.0\n",
       "4   True  50000.0    224.0\n",
       "5   True   1000.0     16.0"
      ]
     },
     "metadata": {},
     "output_type": "display_data"
    }
   ],
   "source": [
    "# 実験用のデータを用意する\n",
    "df2 = df[df['state '].isin(['successful', 'failed'])]\n",
    "df2 = df2.head(1000)\n",
    "df2['state'] = df2['state '] == 'successful'\n",
    "df2 = df2.rename(columns={'goal ': 'goal', 'backers ': 'backers'})\n",
    "df2 = df2[['state', 'goal', 'backers']]# pledgedを使ったら正解率1.0になってしまうので封印\n",
    "df2 = df2.astype({'goal': float, 'backers': float})\n",
    "display(df2.shape)\n",
    "display(df2.dtypes)\n",
    "display(df2.head())\n",
    "\n",
    "# SGDClassifierに渡しやすい形にしておく\n",
    "X = df2.drop(columns='state')\n",
    "y = df2['state']"
   ]
  },
  {
   "cell_type": "code",
   "execution_count": 4,
   "metadata": {},
   "outputs": [
    {
     "data": {
      "image/png": "[encoded data removed]",
      "text/plain": [
       "<Figure size 432x288 with 1 Axes>"
      ]
     },
     "metadata": {
      "needs_background": "light"
     },
     "output_type": "display_data"
    }
   ],
   "source": [
    "# グラフを描写して線形分離できそうか確認する(この後も何度か使うので関数化しておこう)\n",
    "def myplot(X, y):\n",
    "  d0 = X[y == False]\n",
    "  d1 = X[y == True]\n",
    "\n",
    "  plt.grid(True)\n",
    "  plt.xlabel('goal')\n",
    "  plt.ylabel('backers')\n",
    "  plt.plot(d0['goal'], d0['backers'], '^', color='C0', label='Label=False')\n",
    "  plt.plot(d1['goal'], d1['backers'], 'o', color='C1', label='Label=True')\n",
    "  plt.legend(loc='best')\n",
    "\n",
    "myplot(X, y)"
   ]
  },
  {
   "cell_type": "markdown",
   "metadata": {},
   "source": [
    "### まずはそのままロジスティック回帰"
   ]
  },
  {
   "cell_type": "code",
   "execution_count": 5,
   "metadata": {},
   "outputs": [
    {
     "name": "stdout",
     "output_type": "stream",
     "text": [
      "重み\n"
     ]
    },
    {
     "data": {
      "text/plain": [
       "188.20765047511517"
      ]
     },
     "metadata": {},
     "output_type": "display_data"
    },
    {
     "data": {
      "text/plain": [
       "array([  -5476.34049457, 1417982.05246558])"
      ]
     },
     "metadata": {},
     "output_type": "display_data"
    },
    {
     "name": "stdout",
     "output_type": "stream",
     "text": [
      "対数尤度\n"
     ]
    },
    {
     "data": {
      "text/plain": [
       "-4.110199947919403"
      ]
     },
     "metadata": {},
     "output_type": "display_data"
    },
    {
     "name": "stdout",
     "output_type": "stream",
     "text": [
      "正答率\n",
      "Accuracy:\t88.10%\n",
      "Precision:\t79.22%\n",
      "Recall:\t97.14%\n",
      "\n",
      "予測値と正解のクロス集計表\n"
     ]
    },
    {
     "data": {
      "text/html": [
       "<div>\n",
       "<style scoped>\n",
       "    .dataframe tbody tr th:only-of-type {\n",
       "        vertical-align: middle;\n",
       "    }\n",
       "\n",
       "    .dataframe tbody tr th {\n",
       "        vertical-align: top;\n",
       "    }\n",
       "\n",
       "    .dataframe thead th {\n",
       "        text-align: right;\n",
       "    }\n",
       "</style>\n",
       "<table border=\"1\" class=\"dataframe\">\n",
       "  <thead>\n",
       "    <tr style=\"text-align: right;\">\n",
       "      <th></th>\n",
       "      <th>予測値 = 0</th>\n",
       "      <th>予測値 = 1</th>\n",
       "    </tr>\n",
       "  </thead>\n",
       "  <tbody>\n",
       "    <tr>\n",
       "      <th>正解 = 0</th>\n",
       "      <td>473</td>\n",
       "      <td>107</td>\n",
       "    </tr>\n",
       "    <tr>\n",
       "      <th>正解 = 1</th>\n",
       "      <td>12</td>\n",
       "      <td>408</td>\n",
       "    </tr>\n",
       "  </tbody>\n",
       "</table>\n",
       "</div>"
      ],
      "text/plain": [
       "        予測値 = 0  予測値 = 1\n",
       "正解 = 0      473      107\n",
       "正解 = 1       12      408"
      ]
     },
     "metadata": {},
     "output_type": "display_data"
    }
   ],
   "source": [
    "# scikit-learnのSGDClassifierを使う\n",
    "clf = SGDClassifier(loss='log', penalty='none', max_iter=10000, fit_intercept=True, random_state=1234)\n",
    "\n",
    "# 学習\n",
    "clf.fit(X, y)\n",
    "\n",
    "print('重み')\n",
    "display(clf.intercept_[0])\n",
    "display(clf.coef_[0])\n",
    "\n",
    "# 予測\n",
    "y_est = clf.predict(X)\n",
    "\n",
    "# 結果の確認(この後も何度か使うので関数化しておこう)\n",
    "def check_result(y, y_est):\n",
    "\n",
    "  print('対数尤度')\n",
    "  display(-log_loss(y, y_est))\n",
    "\n",
    "  print('正答率')\n",
    "  print('Accuracy:\\t{:.2%}'.format(accuracy_score(y, y_est)))\n",
    "  print('Precision:\\t{:.2%}'.format(precision_score(y, y_est)))\n",
    "  print('Recall:\\t{:.2%}\\n'.format(recall_score(y, y_est)))\n",
    "\n",
    "  print('予測値と正解のクロス集計表')\n",
    "  conf_mat = pd.DataFrame(confusion_matrix(y, y_est),\n",
    "                        index=['正解 = 0', '正解 = 1'],\n",
    "                        columns=['予測値 = 0', '予測値 = 1'])\n",
    "  display(conf_mat)\n",
    "\n",
    "check_result(y, y_est)"
   ]
  },
  {
   "cell_type": "markdown",
   "metadata": {},
   "source": [
    "### ホールドアウト法"
   ]
  },
  {
   "cell_type": "code",
   "execution_count": 6,
   "metadata": {},
   "outputs": [],
   "source": [
    "# 学習用データとテストデータを分割する\n",
    "X_train, X_test, y_train, y_test = train_test_split(X, y, test_size=0.2, random_state=1234)"
   ]
  },
  {
   "cell_type": "code",
   "execution_count": 7,
   "metadata": {},
   "outputs": [
    {
     "data": {
      "image/png": "[encoded data removed]",
      "text/plain": [
       "<Figure size 432x288 with 1 Axes>"
      ]
     },
     "metadata": {
      "needs_background": "light"
     },
     "output_type": "display_data"
    }
   ],
   "source": [
    "# 学習用データの分布\n",
    "myplot(X_train, y_train)"
   ]
  },
  {
   "cell_type": "code",
   "execution_count": 8,
   "metadata": {},
   "outputs": [
    {
     "data": {
      "image/png": "[encoded data removed]",
      "text/plain": [
       "<Figure size 432x288 with 1 Axes>"
      ]
     },
     "metadata": {
      "needs_background": "light"
     },
     "output_type": "display_data"
    }
   ],
   "source": [
    "# テスト用データの分布\n",
    "myplot(X_test, y_test)"
   ]
  },
  {
   "cell_type": "code",
   "execution_count": 9,
   "metadata": {},
   "outputs": [
    {
     "name": "stdout",
     "output_type": "stream",
     "text": [
      "重み\n"
     ]
    },
    {
     "data": {
      "text/plain": [
       "1210.0697368461842"
      ]
     },
     "metadata": {},
     "output_type": "display_data"
    },
    {
     "data": {
      "text/plain": [
       "array([  -6182.13507637, 1658792.82697299])"
      ]
     },
     "metadata": {},
     "output_type": "display_data"
    }
   ],
   "source": [
    "# scikit-learnのSGDClassifierで学習\n",
    "clf = SGDClassifier(loss='log', penalty='none', max_iter=10000, fit_intercept=True, random_state=1234)\n",
    "clf.fit(X_train, y_train)\n",
    "\n",
    "print('重み')\n",
    "display(clf.intercept_[0])\n",
    "display(clf.coef_[0])"
   ]
  },
  {
   "cell_type": "code",
   "execution_count": 10,
   "metadata": {},
   "outputs": [
    {
     "name": "stdout",
     "output_type": "stream",
     "text": [
      "対数尤度\n"
     ]
    },
    {
     "data": {
      "text/plain": [
       "-3.842518833676834"
      ]
     },
     "metadata": {},
     "output_type": "display_data"
    },
    {
     "name": "stdout",
     "output_type": "stream",
     "text": [
      "正答率\n",
      "Accuracy:\t88.88%\n",
      "Precision:\t80.77%\n",
      "Recall:\t97.39%\n",
      "\n",
      "予測値と正解のクロス集計表\n"
     ]
    },
    {
     "data": {
      "text/html": [
       "<div>\n",
       "<style scoped>\n",
       "    .dataframe tbody tr th:only-of-type {\n",
       "        vertical-align: middle;\n",
       "    }\n",
       "\n",
       "    .dataframe tbody tr th {\n",
       "        vertical-align: top;\n",
       "    }\n",
       "\n",
       "    .dataframe thead th {\n",
       "        text-align: right;\n",
       "    }\n",
       "</style>\n",
       "<table border=\"1\" class=\"dataframe\">\n",
       "  <thead>\n",
       "    <tr style=\"text-align: right;\">\n",
       "      <th></th>\n",
       "      <th>予測値 = 0</th>\n",
       "      <th>予測値 = 1</th>\n",
       "    </tr>\n",
       "  </thead>\n",
       "  <tbody>\n",
       "    <tr>\n",
       "      <th>正解 = 0</th>\n",
       "      <td>375</td>\n",
       "      <td>80</td>\n",
       "    </tr>\n",
       "    <tr>\n",
       "      <th>正解 = 1</th>\n",
       "      <td>9</td>\n",
       "      <td>336</td>\n",
       "    </tr>\n",
       "  </tbody>\n",
       "</table>\n",
       "</div>"
      ],
      "text/plain": [
       "        予測値 = 0  予測値 = 1\n",
       "正解 = 0      375       80\n",
       "正解 = 1        9      336"
      ]
     },
     "metadata": {},
     "output_type": "display_data"
    }
   ],
   "source": [
    "# 訓練誤差\n",
    "y_train_est = clf.predict(X_train)\n",
    "check_result(y_train, y_train_est)"
   ]
  },
  {
   "cell_type": "code",
   "execution_count": 11,
   "metadata": {},
   "outputs": [
    {
     "name": "stdout",
     "output_type": "stream",
     "text": [
      "対数尤度\n"
     ]
    },
    {
     "data": {
      "text/plain": [
       "-5.6990180447747925"
      ]
     },
     "metadata": {},
     "output_type": "display_data"
    },
    {
     "name": "stdout",
     "output_type": "stream",
     "text": [
      "正答率\n",
      "Accuracy:\t83.50%\n",
      "Precision:\t70.59%\n",
      "Recall:\t96.00%\n",
      "\n",
      "予測値と正解のクロス集計表\n"
     ]
    },
    {
     "data": {
      "text/html": [
       "<div>\n",
       "<style scoped>\n",
       "    .dataframe tbody tr th:only-of-type {\n",
       "        vertical-align: middle;\n",
       "    }\n",
       "\n",
       "    .dataframe tbody tr th {\n",
       "        vertical-align: top;\n",
       "    }\n",
       "\n",
       "    .dataframe thead th {\n",
       "        text-align: right;\n",
       "    }\n",
       "</style>\n",
       "<table border=\"1\" class=\"dataframe\">\n",
       "  <thead>\n",
       "    <tr style=\"text-align: right;\">\n",
       "      <th></th>\n",
       "      <th>予測値 = 0</th>\n",
       "      <th>予測値 = 1</th>\n",
       "    </tr>\n",
       "  </thead>\n",
       "  <tbody>\n",
       "    <tr>\n",
       "      <th>正解 = 0</th>\n",
       "      <td>95</td>\n",
       "      <td>30</td>\n",
       "    </tr>\n",
       "    <tr>\n",
       "      <th>正解 = 1</th>\n",
       "      <td>3</td>\n",
       "      <td>72</td>\n",
       "    </tr>\n",
       "  </tbody>\n",
       "</table>\n",
       "</div>"
      ],
      "text/plain": [
       "        予測値 = 0  予測値 = 1\n",
       "正解 = 0       95       30\n",
       "正解 = 1        3       72"
      ]
     },
     "metadata": {},
     "output_type": "display_data"
    }
   ],
   "source": [
    "# 汎化誤差\n",
    "y_test_est = clf.predict(X_test)\n",
    "check_result(y_test, y_test_est)"
   ]
  },
  {
   "cell_type": "markdown",
   "metadata": {},
   "source": [
    "### 交差検証(クロスバリデーション)法"
   ]
  },
  {
   "cell_type": "markdown",
   "metadata": {},
   "source": [
    "Python: pandas の DataFrame を scikit-learn で KFold するときの注意点\n",
    "https://blog.amedama.jp/entry/2018/06/21/235951"
   ]
  },
  {
   "cell_type": "code",
   "execution_count": 12,
   "metadata": {},
   "outputs": [
    {
     "data": {
      "text/html": [
       "<div>\n",
       "<style scoped>\n",
       "    .dataframe tbody tr th:only-of-type {\n",
       "        vertical-align: middle;\n",
       "    }\n",
       "\n",
       "    .dataframe tbody tr th {\n",
       "        vertical-align: top;\n",
       "    }\n",
       "\n",
       "    .dataframe thead th {\n",
       "        text-align: right;\n",
       "    }\n",
       "</style>\n",
       "<table border=\"1\" class=\"dataframe\">\n",
       "  <thead>\n",
       "    <tr style=\"text-align: right;\">\n",
       "      <th></th>\n",
       "      <th>1.対数尤度(LogisticLoss)</th>\n",
       "      <th>2.正確度(Accuracy)</th>\n",
       "      <th>3.適合度(Precision)</th>\n",
       "      <th>4.再現度(Recall)</th>\n",
       "    </tr>\n",
       "  </thead>\n",
       "  <tbody>\n",
       "    <tr>\n",
       "      <th>0</th>\n",
       "      <td>-3.108554</td>\n",
       "      <td>0.910</td>\n",
       "      <td>0.846154</td>\n",
       "      <td>0.977778</td>\n",
       "    </tr>\n",
       "    <tr>\n",
       "      <th>1</th>\n",
       "      <td>-4.835517</td>\n",
       "      <td>0.860</td>\n",
       "      <td>0.782178</td>\n",
       "      <td>0.929412</td>\n",
       "    </tr>\n",
       "    <tr>\n",
       "      <th>2</th>\n",
       "      <td>-3.626651</td>\n",
       "      <td>0.895</td>\n",
       "      <td>0.811321</td>\n",
       "      <td>0.988506</td>\n",
       "    </tr>\n",
       "    <tr>\n",
       "      <th>3</th>\n",
       "      <td>-3.972043</td>\n",
       "      <td>0.885</td>\n",
       "      <td>0.798077</td>\n",
       "      <td>0.976471</td>\n",
       "    </tr>\n",
       "    <tr>\n",
       "      <th>4</th>\n",
       "      <td>-5.180932</td>\n",
       "      <td>0.850</td>\n",
       "      <td>0.712871</td>\n",
       "      <td>0.986301</td>\n",
       "    </tr>\n",
       "  </tbody>\n",
       "</table>\n",
       "</div>"
      ],
      "text/plain": [
       "   1.対数尤度(LogisticLoss)  2.正確度(Accuracy)  3.適合度(Precision)  4.再現度(Recall)\n",
       "0             -3.108554            0.910          0.846154       0.977778\n",
       "1             -4.835517            0.860          0.782178       0.929412\n",
       "2             -3.626651            0.895          0.811321       0.988506\n",
       "3             -3.972043            0.885          0.798077       0.976471\n",
       "4             -5.180932            0.850          0.712871       0.986301"
      ]
     },
     "metadata": {},
     "output_type": "display_data"
    },
    {
     "data": {
      "text/html": [
       "<div>\n",
       "<style scoped>\n",
       "    .dataframe tbody tr th:only-of-type {\n",
       "        vertical-align: middle;\n",
       "    }\n",
       "\n",
       "    .dataframe tbody tr th {\n",
       "        vertical-align: top;\n",
       "    }\n",
       "\n",
       "    .dataframe thead th {\n",
       "        text-align: right;\n",
       "    }\n",
       "</style>\n",
       "<table border=\"1\" class=\"dataframe\">\n",
       "  <thead>\n",
       "    <tr style=\"text-align: right;\">\n",
       "      <th></th>\n",
       "      <th>1.対数尤度(LogisticLoss)</th>\n",
       "      <th>2.正確度(Accuracy)</th>\n",
       "      <th>3.適合度(Precision)</th>\n",
       "      <th>4.再現度(Recall)</th>\n",
       "    </tr>\n",
       "  </thead>\n",
       "  <tbody>\n",
       "    <tr>\n",
       "      <th>count</th>\n",
       "      <td>5.000000</td>\n",
       "      <td>5.000000</td>\n",
       "      <td>5.000000</td>\n",
       "      <td>5.000000</td>\n",
       "    </tr>\n",
       "    <tr>\n",
       "      <th>mean</th>\n",
       "      <td>-4.144740</td>\n",
       "      <td>0.880000</td>\n",
       "      <td>0.790120</td>\n",
       "      <td>0.971693</td>\n",
       "    </tr>\n",
       "    <tr>\n",
       "      <th>std</th>\n",
       "      <td>0.854808</td>\n",
       "      <td>0.024749</td>\n",
       "      <td>0.049201</td>\n",
       "      <td>0.024206</td>\n",
       "    </tr>\n",
       "    <tr>\n",
       "      <th>min</th>\n",
       "      <td>-5.180932</td>\n",
       "      <td>0.850000</td>\n",
       "      <td>0.712871</td>\n",
       "      <td>0.929412</td>\n",
       "    </tr>\n",
       "    <tr>\n",
       "      <th>25%</th>\n",
       "      <td>-4.835517</td>\n",
       "      <td>0.860000</td>\n",
       "      <td>0.782178</td>\n",
       "      <td>0.976471</td>\n",
       "    </tr>\n",
       "    <tr>\n",
       "      <th>50%</th>\n",
       "      <td>-3.972043</td>\n",
       "      <td>0.885000</td>\n",
       "      <td>0.798077</td>\n",
       "      <td>0.977778</td>\n",
       "    </tr>\n",
       "    <tr>\n",
       "      <th>75%</th>\n",
       "      <td>-3.626651</td>\n",
       "      <td>0.895000</td>\n",
       "      <td>0.811321</td>\n",
       "      <td>0.986301</td>\n",
       "    </tr>\n",
       "    <tr>\n",
       "      <th>max</th>\n",
       "      <td>-3.108554</td>\n",
       "      <td>0.910000</td>\n",
       "      <td>0.846154</td>\n",
       "      <td>0.988506</td>\n",
       "    </tr>\n",
       "  </tbody>\n",
       "</table>\n",
       "</div>"
      ],
      "text/plain": [
       "       1.対数尤度(LogisticLoss)  2.正確度(Accuracy)  3.適合度(Precision)  4.再現度(Recall)\n",
       "count              5.000000         5.000000          5.000000       5.000000\n",
       "mean              -4.144740         0.880000          0.790120       0.971693\n",
       "std                0.854808         0.024749          0.049201       0.024206\n",
       "min               -5.180932         0.850000          0.712871       0.929412\n",
       "25%               -4.835517         0.860000          0.782178       0.976471\n",
       "50%               -3.972043         0.885000          0.798077       0.977778\n",
       "75%               -3.626651         0.895000          0.811321       0.986301\n",
       "max               -3.108554         0.910000          0.846154       0.988506"
      ]
     },
     "metadata": {},
     "output_type": "display_data"
    }
   ],
   "source": [
    "# 汎化誤差\n",
    "scores = pd.DataFrame()\n",
    "\n",
    "# テスト役を交代させながら学習と評価を繰り返す\n",
    "kf = KFold(n_splits=5, random_state=1234)\n",
    "for train_index, test_index in kf.split(X):\n",
    "    \n",
    "    # KFoldより与えられたindexを使ってDataFrameからデータを取り出す\n",
    "    X_train = X.iloc[train_index]\n",
    "    y_train = y.iloc[train_index]\n",
    "    X_test = X.iloc[test_index]\n",
    "    y_test = y.iloc[test_index]\n",
    "    \n",
    "    # scikit-learnのSGDClassifierで学習\n",
    "    clf = SGDClassifier(loss='log', penalty='none', max_iter=10000,\n",
    "                        fit_intercept=True, random_state=1234)\n",
    "    clf.fit(X_train, y_train)\n",
    "\n",
    "    # 汎化誤差を記録する\n",
    "    y_est = clf.predict(X_test)\n",
    "    scores = scores.append({\n",
    "        '1.対数尤度(LogisticLoss)': -log_loss(y_test, y_est),\n",
    "        '2.正確度(Accuracy)': accuracy_score(y_test, y_est),\n",
    "        '3.適合度(Precision)': precision_score(y_test, y_est),\n",
    "        '4.再現度(Recall)': recall_score(y_test, y_est)\n",
    "    }, ignore_index=True)\n",
    "\n",
    "# 結果をまとめて確認する。全体の性能は平均値(mean)を見る\n",
    "display(scores)\n",
    "display(scores.describe())"
   ]
  },
  {
   "cell_type": "markdown",
   "metadata": {},
   "source": [
    "## 欠損値と異常値への対応"
   ]
  },
  {
   "cell_type": "code",
   "execution_count": 24,
   "metadata": {},
   "outputs": [],
   "source": [
    "# 実験用のデータを用意する\n",
    "df3 = df[df['state '].isin(['successful', 'failed'])]\n",
    "df3 = df3.head(3100)\n",
    "df3 = df3.rename(columns={\n",
    "    'ID ': 'id', 'name ': 'name', 'category ': 'category', 'main_category ': 'main_category', 'currency ': 'currency',\n",
    "    'deadline ': 'deadline', 'goal ': 'goal', 'launched ': 'launched', 'pledged ': 'pledged', 'state ': 'state',\n",
    "    'backers ': 'backers', 'country ': 'country', 'usd pledged ': 'usd_pledged'})\n",
    "df3['state'] = df3['state'] == 'successful'\n",
    "df3 = df3.astype({'goal': float, 'pledged': float, 'backers': float, 'usd_pledged': float})"
   ]
  },
  {
   "cell_type": "code",
   "execution_count": 25,
   "metadata": {},
   "outputs": [
    {
     "data": {
      "text/plain": [
       "id                  0\n",
       "name                0\n",
       "category            0\n",
       "main_category       0\n",
       "currency            0\n",
       "deadline            0\n",
       "goal                0\n",
       "launched            0\n",
       "pledged             0\n",
       "state               0\n",
       "backers             0\n",
       "country             0\n",
       "usd_pledged         1\n",
       "Unnamed: 13      3100\n",
       "Unnamed: 14      3100\n",
       "Unnamed: 15      3100\n",
       "Unnamed: 16      3100\n",
       "dtype: int64"
      ]
     },
     "metadata": {},
     "output_type": "display_data"
    }
   ],
   "source": [
    "# 欠損値の確認\n",
    "display(df3.isnull().sum())"
   ]
  },
  {
   "cell_type": "code",
   "execution_count": 26,
   "metadata": {},
   "outputs": [
    {
     "data": {
      "text/html": [
       "<div>\n",
       "<style scoped>\n",
       "    .dataframe tbody tr th:only-of-type {\n",
       "        vertical-align: middle;\n",
       "    }\n",
       "\n",
       "    .dataframe tbody tr th {\n",
       "        vertical-align: top;\n",
       "    }\n",
       "\n",
       "    .dataframe thead th {\n",
       "        text-align: right;\n",
       "    }\n",
       "</style>\n",
       "<table border=\"1\" class=\"dataframe\">\n",
       "  <thead>\n",
       "    <tr style=\"text-align: right;\">\n",
       "      <th></th>\n",
       "      <th>id</th>\n",
       "      <th>name</th>\n",
       "      <th>category</th>\n",
       "      <th>main_category</th>\n",
       "      <th>currency</th>\n",
       "      <th>deadline</th>\n",
       "      <th>goal</th>\n",
       "      <th>launched</th>\n",
       "      <th>pledged</th>\n",
       "      <th>state</th>\n",
       "      <th>backers</th>\n",
       "      <th>country</th>\n",
       "      <th>usd_pledged</th>\n",
       "      <th>Unnamed: 13</th>\n",
       "      <th>Unnamed: 14</th>\n",
       "      <th>Unnamed: 15</th>\n",
       "      <th>Unnamed: 16</th>\n",
       "    </tr>\n",
       "  </thead>\n",
       "  <tbody>\n",
       "    <tr>\n",
       "      <th>2102</th>\n",
       "      <td>1012744036</td>\n",
       "      <td>An Oratorio for our Time - Last Stop Cafe</td>\n",
       "      <td>Music</td>\n",
       "      <td>Music</td>\n",
       "      <td>USD</td>\n",
       "      <td>2016-05-26 19:46:26</td>\n",
       "      <td>5000.0</td>\n",
       "      <td>2016-04-26 19:46:26</td>\n",
       "      <td>5170.0</td>\n",
       "      <td>True</td>\n",
       "      <td>0.0</td>\n",
       "      <td>N,\"0</td>\n",
       "      <td>NaN</td>\n",
       "      <td>NaN</td>\n",
       "      <td>NaN</td>\n",
       "      <td>NaN</td>\n",
       "      <td>NaN</td>\n",
       "    </tr>\n",
       "  </tbody>\n",
       "</table>\n",
       "</div>"
      ],
      "text/plain": [
       "              id                                       name category  \\\n",
       "2102  1012744036  An Oratorio for our Time - Last Stop Cafe    Music   \n",
       "\n",
       "     main_category currency             deadline    goal             launched  \\\n",
       "2102         Music      USD  2016-05-26 19:46:26  5000.0  2016-04-26 19:46:26   \n",
       "\n",
       "      pledged  state  backers country  usd_pledged Unnamed: 13 Unnamed: 14  \\\n",
       "2102   5170.0   True      0.0    N,\"0          NaN         NaN         NaN   \n",
       "\n",
       "     Unnamed: 15  Unnamed: 16  \n",
       "2102         NaN          NaN  "
      ]
     },
     "metadata": {},
     "output_type": "display_data"
    }
   ],
   "source": [
    "# 元のファイルの記述に問題がある\n",
    "display(df3[df3['usd_pledged'].isnull()])\n",
    "# この行は捨てる\n",
    "df3 = df3[~df3['usd_pledged'].isnull()]"
   ]
  },
  {
   "cell_type": "code",
   "execution_count": 67,
   "metadata": {},
   "outputs": [
    {
     "data": {
      "image/png": "[encoded data removed]",
      "text/plain": [
       "<Figure size 432x288 with 1 Axes>"
      ]
     },
     "metadata": {
      "needs_background": "light"
     },
     "output_type": "display_data"
    }
   ],
   "source": [
    "# goalをヒストグラムで確認\n",
    "plt.hist(df3['goal'], bins=20, color='r')\n",
    "plt.show()"
   ]
  },
  {
   "cell_type": "code",
   "execution_count": 71,
   "metadata": {},
   "outputs": [
    {
     "data": {
      "text/html": [
       "<div>\n",
       "<style scoped>\n",
       "    .dataframe tbody tr th:only-of-type {\n",
       "        vertical-align: middle;\n",
       "    }\n",
       "\n",
       "    .dataframe tbody tr th {\n",
       "        vertical-align: top;\n",
       "    }\n",
       "\n",
       "    .dataframe thead th {\n",
       "        text-align: right;\n",
       "    }\n",
       "</style>\n",
       "<table border=\"1\" class=\"dataframe\">\n",
       "  <thead>\n",
       "    <tr style=\"text-align: right;\">\n",
       "      <th></th>\n",
       "      <th>id</th>\n",
       "      <th>name</th>\n",
       "      <th>category</th>\n",
       "      <th>main_category</th>\n",
       "      <th>currency</th>\n",
       "      <th>deadline</th>\n",
       "      <th>goal</th>\n",
       "      <th>launched</th>\n",
       "      <th>pledged</th>\n",
       "      <th>state</th>\n",
       "      <th>backers</th>\n",
       "      <th>country</th>\n",
       "      <th>usd_pledged</th>\n",
       "      <th>Unnamed: 13</th>\n",
       "      <th>Unnamed: 14</th>\n",
       "      <th>Unnamed: 15</th>\n",
       "      <th>Unnamed: 16</th>\n",
       "    </tr>\n",
       "  </thead>\n",
       "  <tbody>\n",
       "    <tr>\n",
       "      <th>2708</th>\n",
       "      <td>1016210580</td>\n",
       "      <td>INDIRA – THE FIRST INDIAN GRAND MUSICAL</td>\n",
       "      <td>Musical</td>\n",
       "      <td>Theater</td>\n",
       "      <td>EUR</td>\n",
       "      <td>2016-04-27 13:08:01</td>\n",
       "      <td>15000000.0</td>\n",
       "      <td>2016-02-27 13:08:01</td>\n",
       "      <td>15.0</td>\n",
       "      <td>False</td>\n",
       "      <td>6.0</td>\n",
       "      <td>ES</td>\n",
       "      <td>16.593655</td>\n",
       "      <td>NaN</td>\n",
       "      <td>NaN</td>\n",
       "      <td>NaN</td>\n",
       "      <td>NaN</td>\n",
       "    </tr>\n",
       "    <tr>\n",
       "      <th>2577</th>\n",
       "      <td>1015466274</td>\n",
       "      <td>Genesis</td>\n",
       "      <td>Film &amp; Video</td>\n",
       "      <td>Film &amp; Video</td>\n",
       "      <td>EUR</td>\n",
       "      <td>2015-09-01 23:55:00</td>\n",
       "      <td>5000000.0</td>\n",
       "      <td>2015-07-07 21:14:52</td>\n",
       "      <td>0.0</td>\n",
       "      <td>False</td>\n",
       "      <td>0.0</td>\n",
       "      <td>IT</td>\n",
       "      <td>0.000000</td>\n",
       "      <td>NaN</td>\n",
       "      <td>NaN</td>\n",
       "      <td>NaN</td>\n",
       "      <td>NaN</td>\n",
       "    </tr>\n",
       "    <tr>\n",
       "      <th>1540</th>\n",
       "      <td>1009207145</td>\n",
       "      <td>** GOLIATH **</td>\n",
       "      <td>Product Design</td>\n",
       "      <td>Design</td>\n",
       "      <td>CAD</td>\n",
       "      <td>2014-07-21 21:46:00</td>\n",
       "      <td>3850000.0</td>\n",
       "      <td>2014-06-21 22:34:21</td>\n",
       "      <td>285.0</td>\n",
       "      <td>False</td>\n",
       "      <td>5.0</td>\n",
       "      <td>CA</td>\n",
       "      <td>263.405003</td>\n",
       "      <td>NaN</td>\n",
       "      <td>NaN</td>\n",
       "      <td>NaN</td>\n",
       "      <td>NaN</td>\n",
       "    </tr>\n",
       "    <tr>\n",
       "      <th>895</th>\n",
       "      <td>1005237669</td>\n",
       "      <td>The Old Soul of a Lion</td>\n",
       "      <td>Film &amp; Video</td>\n",
       "      <td>Film &amp; Video</td>\n",
       "      <td>USD</td>\n",
       "      <td>2014-10-14 20:16:22</td>\n",
       "      <td>3000000.0</td>\n",
       "      <td>2014-08-15 20:16:22</td>\n",
       "      <td>4.0</td>\n",
       "      <td>False</td>\n",
       "      <td>2.0</td>\n",
       "      <td>US</td>\n",
       "      <td>4.000000</td>\n",
       "      <td>NaN</td>\n",
       "      <td>NaN</td>\n",
       "      <td>NaN</td>\n",
       "      <td>NaN</td>\n",
       "    </tr>\n",
       "    <tr>\n",
       "      <th>2512</th>\n",
       "      <td>1015071175</td>\n",
       "      <td>Thermal Safe</td>\n",
       "      <td>Product Design</td>\n",
       "      <td>Design</td>\n",
       "      <td>USD</td>\n",
       "      <td>2015-06-10 03:54:47</td>\n",
       "      <td>2000000.0</td>\n",
       "      <td>2015-04-22 03:54:47</td>\n",
       "      <td>665.0</td>\n",
       "      <td>False</td>\n",
       "      <td>8.0</td>\n",
       "      <td>US</td>\n",
       "      <td>665.000000</td>\n",
       "      <td>NaN</td>\n",
       "      <td>NaN</td>\n",
       "      <td>NaN</td>\n",
       "      <td>NaN</td>\n",
       "    </tr>\n",
       "  </tbody>\n",
       "</table>\n",
       "</div>"
      ],
      "text/plain": [
       "              id                                     name        category  \\\n",
       "2708  1016210580  INDIRA – THE FIRST INDIAN GRAND MUSICAL         Musical   \n",
       "2577  1015466274                                  Genesis    Film & Video   \n",
       "1540  1009207145                            ** GOLIATH **  Product Design   \n",
       "895   1005237669                   The Old Soul of a Lion    Film & Video   \n",
       "2512  1015071175                             Thermal Safe  Product Design   \n",
       "\n",
       "     main_category currency             deadline        goal  \\\n",
       "2708       Theater      EUR  2016-04-27 13:08:01  15000000.0   \n",
       "2577  Film & Video      EUR  2015-09-01 23:55:00   5000000.0   \n",
       "1540        Design      CAD  2014-07-21 21:46:00   3850000.0   \n",
       "895   Film & Video      USD  2014-10-14 20:16:22   3000000.0   \n",
       "2512        Design      USD  2015-06-10 03:54:47   2000000.0   \n",
       "\n",
       "                 launched  pledged  state  backers country  usd_pledged  \\\n",
       "2708  2016-02-27 13:08:01     15.0  False      6.0      ES    16.593655   \n",
       "2577  2015-07-07 21:14:52      0.0  False      0.0      IT     0.000000   \n",
       "1540  2014-06-21 22:34:21    285.0  False      5.0      CA   263.405003   \n",
       "895   2014-08-15 20:16:22      4.0  False      2.0      US     4.000000   \n",
       "2512  2015-04-22 03:54:47    665.0  False      8.0      US   665.000000   \n",
       "\n",
       "     Unnamed: 13 Unnamed: 14 Unnamed: 15  Unnamed: 16  \n",
       "2708         NaN         NaN         NaN          NaN  \n",
       "2577         NaN         NaN         NaN          NaN  \n",
       "1540         NaN         NaN         NaN          NaN  \n",
       "895          NaN         NaN         NaN          NaN  \n",
       "2512         NaN         NaN         NaN          NaN  "
      ]
     },
     "execution_count": 71,
     "metadata": {},
     "output_type": "execute_result"
    }
   ],
   "source": [
    "# goalが極端に大きい値を実データを目視確認\n",
    "df3.sort_values('goal', ascending=False).head()\n",
    "# 特におかしなデータではなさそうだけど、正規化して使った方がいいんだろうなー"
   ]
  },
  {
   "cell_type": "code",
   "execution_count": null,
   "metadata": {},
   "outputs": [],
   "source": []
  },
  {
   "cell_type": "code",
   "execution_count": 50,
   "metadata": {},
   "outputs": [
    {
     "data": {
      "image/png": "[encoded data removed]",
      "text/plain": [
       "<Figure size 432x288 with 1 Axes>"
      ]
     },
     "metadata": {
      "needs_background": "light"
     },
     "output_type": "display_data"
    },
    {
     "data": {
      "image/png": "[encoded data removed]",
      "text/plain": [
       "<Figure size 432x288 with 1 Axes>"
      ]
     },
     "metadata": {
      "needs_background": "light"
     },
     "output_type": "display_data"
    },
    {
     "data": {
      "image/png": "[encoded data removed]",
      "text/plain": [
       "<Figure size 432x288 with 1 Axes>"
      ]
     },
     "metadata": {
      "needs_background": "light"
     },
     "output_type": "display_data"
    }
   ],
   "source": [
    "# main_categoryをクロス集計表で確認\n",
    "df3['main_category'].value_counts().plot(kind=\"bar\")\n",
    "pd.crosstab(df3['main_category'], df3['state']).plot(kind=\"bar\", stacked=True)\n",
    "pd.crosstab(df3['main_category'], df3['state'], margins=True, normalize='index').plot(kind=\"bar\", stacked=True)\n",
    "plt.tight_layout()\n",
    "plt.show()\n",
    "# 使えそう"
   ]
  },
  {
   "cell_type": "code",
   "execution_count": 51,
   "metadata": {},
   "outputs": [
    {
     "data": {
      "image/png": "[encoded data removed]",
      "text/plain": [
       "<Figure size 432x288 with 1 Axes>"
      ]
     },
     "metadata": {
      "needs_background": "light"
     },
     "output_type": "display_data"
    },
    {
     "data": {
      "image/png": "[encoded data removed]",
      "text/plain": [
       "<Figure size 432x288 with 1 Axes>"
      ]
     },
     "metadata": {
      "needs_background": "light"
     },
     "output_type": "display_data"
    },
    {
     "data": {
      "image/png": "[encoded data removed]",
      "text/plain": [
       "<Figure size 432x288 with 1 Axes>"
      ]
     },
     "metadata": {
      "needs_background": "light"
     },
     "output_type": "display_data"
    }
   ],
   "source": [
    "# currencyをクロス集計表で確認\n",
    "df3['currency'].value_counts().plot(kind=\"bar\")\n",
    "pd.crosstab(df3['currency'], df3['state']).plot(kind=\"bar\", stacked=True)\n",
    "pd.crosstab(df3['currency'], df3['state'], margins=True, normalize='index').plot(kind=\"bar\", stacked=True)\n",
    "plt.tight_layout()\n",
    "plt.show()\n",
    "# 使えそう"
   ]
  },
  {
   "cell_type": "code",
   "execution_count": null,
   "metadata": {},
   "outputs": [],
   "source": []
  }
 ],
 "metadata": {
  "kernelspec": {
   "display_name": "Python 3",
   "language": "python",
   "name": "python3"
  },
  "language_info": {
   "codemirror_mode": {
    "name": "ipython",
    "version": 3
   },
   "file_extension": ".py",
   "mimetype": "text/x-python",
   "name": "python",
   "nbconvert_exporter": "python",
   "pygments_lexer": "ipython3",
   "version": "3.6.6"
  }
 },
 "nbformat": 4,
 "nbformat_minor": 2
}
