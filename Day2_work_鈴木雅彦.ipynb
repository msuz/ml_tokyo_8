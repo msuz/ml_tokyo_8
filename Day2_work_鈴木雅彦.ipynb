{
 "cells": [
  {
   "cell_type": "markdown",
   "metadata": {},
   "source": [
    "# Day2宿題 - 鈴木雅彦"
   ]
  },
  {
   "cell_type": "markdown",
   "metadata": {},
   "source": [
    "## ライブラリとファイルの読み込み"
   ]
  },
  {
   "cell_type": "code",
   "execution_count": 1,
   "metadata": {},
   "outputs": [],
   "source": [
    "%matplotlib inline\n",
    "import pandas as pd\n",
    "import numpy as np\n",
    "import matplotlib.pyplot as plt\n",
    "import seaborn as sns\n",
    "from sklearn.linear_model import SGDClassifier\n",
    "from sklearn.model_selection import train_test_split # ホールドアウト法に関する関数\n",
    "from sklearn.model_selection import KFold # 交差検証法に関する関数\n",
    "from sklearn.metrics import log_loss # 分類問題における性能評価に関する関数\n",
    "from sklearn.metrics import accuracy_score # 〃\n",
    "from sklearn.metrics import precision_score # 〃\n",
    "from sklearn.metrics import recall_score # 〃\n",
    "from sklearn.metrics import confusion_matrix # 〃\n",
    "\n",
    "\n",
    "from sklearn.preprocessing import MinMaxScaler # 正規化\n",
    "from sklearn.preprocessing import StandardScaler # 標準化"
   ]
  },
  {
   "cell_type": "code",
   "execution_count": 2,
   "metadata": {},
   "outputs": [
    {
     "name": "stderr",
     "output_type": "stream",
     "text": [
      "/Users/suzukimasahiko/anaconda3/envs/skillupai-ml-tokyo8-20181023/lib/python3.6/site-packages/IPython/core/interactiveshell.py:3020: DtypeWarning: Columns (13,14,15) have mixed types. Specify dtype option on import or set low_memory=False.\n",
      "  interactivity=interactivity, compiler=compiler, result=result)\n"
     ]
    }
   ],
   "source": [
    "df = pd.read_csv(\n",
    "    './data/ks-projects-201612.csv',\n",
    "    encoding = \"Windows-1252\"\n",
    ")"
   ]
  },
  {
   "cell_type": "markdown",
   "metadata": {},
   "source": [
    "## 汎化性能の確認"
   ]
  },
  {
   "cell_type": "code",
   "execution_count": 3,
   "metadata": {},
   "outputs": [
    {
     "data": {
      "text/plain": [
       "(1000, 3)"
      ]
     },
     "metadata": {},
     "output_type": "display_data"
    },
    {
     "data": {
      "text/plain": [
       "state         bool\n",
       "goal       float64\n",
       "backers    float64\n",
       "dtype: object"
      ]
     },
     "metadata": {},
     "output_type": "display_data"
    },
    {
     "data": {
      "text/html": [
       "<div>\n",
       "<style scoped>\n",
       "    .dataframe tbody tr th:only-of-type {\n",
       "        vertical-align: middle;\n",
       "    }\n",
       "\n",
       "    .dataframe tbody tr th {\n",
       "        vertical-align: top;\n",
       "    }\n",
       "\n",
       "    .dataframe thead th {\n",
       "        text-align: right;\n",
       "    }\n",
       "</style>\n",
       "<table border=\"1\" class=\"dataframe\">\n",
       "  <thead>\n",
       "    <tr style=\"text-align: right;\">\n",
       "      <th></th>\n",
       "      <th>state</th>\n",
       "      <th>goal</th>\n",
       "      <th>backers</th>\n",
       "    </tr>\n",
       "  </thead>\n",
       "  <tbody>\n",
       "    <tr>\n",
       "      <th>0</th>\n",
       "      <td>False</td>\n",
       "      <td>1000.0</td>\n",
       "      <td>0.0</td>\n",
       "    </tr>\n",
       "    <tr>\n",
       "      <th>1</th>\n",
       "      <td>False</td>\n",
       "      <td>45000.0</td>\n",
       "      <td>3.0</td>\n",
       "    </tr>\n",
       "    <tr>\n",
       "      <th>2</th>\n",
       "      <td>False</td>\n",
       "      <td>5000.0</td>\n",
       "      <td>1.0</td>\n",
       "    </tr>\n",
       "    <tr>\n",
       "      <th>4</th>\n",
       "      <td>True</td>\n",
       "      <td>50000.0</td>\n",
       "      <td>224.0</td>\n",
       "    </tr>\n",
       "    <tr>\n",
       "      <th>5</th>\n",
       "      <td>True</td>\n",
       "      <td>1000.0</td>\n",
       "      <td>16.0</td>\n",
       "    </tr>\n",
       "  </tbody>\n",
       "</table>\n",
       "</div>"
      ],
      "text/plain": [
       "   state     goal  backers\n",
       "0  False   1000.0      0.0\n",
       "1  False  45000.0      3.0\n",
       "2  False   5000.0      1.0\n",
       "4   True  50000.0    224.0\n",
       "5   True   1000.0     16.0"
      ]
     },
     "metadata": {},
     "output_type": "display_data"
    }
   ],
   "source": [
    "# 実験用のデータを用意する\n",
    "df2 = df[df['state '].isin(['successful', 'failed'])]\n",
    "df2 = df2.head(1000)\n",
    "df2['state'] = df2['state '] == 'successful'\n",
    "df2 = df2.rename(columns={'goal ': 'goal', 'backers ': 'backers'})\n",
    "df2 = df2[['state', 'goal', 'backers']]# pledgedを使ったら正解率1.0になってしまうので封印\n",
    "df2 = df2.astype({'goal': float, 'backers': float})\n",
    "display(df2.shape)\n",
    "display(df2.dtypes)\n",
    "display(df2.head())\n",
    "\n",
    "# SGDClassifierに渡しやすい形にしておく\n",
    "X = df2.drop(columns='state')\n",
    "y = df2['state']"
   ]
  },
  {
   "cell_type": "code",
   "execution_count": 4,
   "metadata": {},
   "outputs": [
    {
     "data": {
      "image/png": "[encoded data removed]",
      "text/plain": [
       "<Figure size 432x288 with 1 Axes>"
      ]
     },
     "metadata": {
      "needs_background": "light"
     },
     "output_type": "display_data"
    }
   ],
   "source": [
    "# グラフを描写して線形分離できそうか確認する(この後も何度か使うので関数化しておこう)\n",
    "def myplot(X, y):\n",
    "  d0 = X[y == False]\n",
    "  d1 = X[y == True]\n",
    "\n",
    "  plt.grid(True)\n",
    "  plt.xlabel('goal')\n",
    "  plt.ylabel('backers')\n",
    "  plt.plot(d0['goal'], d0['backers'], '^', color='C0', label='Label=False')\n",
    "  plt.plot(d1['goal'], d1['backers'], 'o', color='C1', label='Label=True')\n",
    "  plt.legend(loc='best')\n",
    "\n",
    "myplot(X, y)"
   ]
  },
  {
   "cell_type": "markdown",
   "metadata": {},
   "source": [
    "### まずはそのままロジスティック回帰"
   ]
  },
  {
   "cell_type": "code",
   "execution_count": 5,
   "metadata": {},
   "outputs": [
    {
     "name": "stdout",
     "output_type": "stream",
     "text": [
      "重み\n"
     ]
    },
    {
     "data": {
      "text/plain": [
       "188.20765047511517"
      ]
     },
     "metadata": {},
     "output_type": "display_data"
    },
    {
     "data": {
      "text/plain": [
       "array([  -5476.34049457, 1417982.05246558])"
      ]
     },
     "metadata": {},
     "output_type": "display_data"
    },
    {
     "name": "stdout",
     "output_type": "stream",
     "text": [
      "対数尤度\n"
     ]
    },
    {
     "data": {
      "text/plain": [
       "-4.110199947919403"
      ]
     },
     "metadata": {},
     "output_type": "display_data"
    },
    {
     "name": "stdout",
     "output_type": "stream",
     "text": [
      "正答率\n",
      "Accuracy:\t88.10%\n",
      "Precision:\t79.22%\n",
      "Recall:\t97.14%\n",
      "\n",
      "予測値と正解のクロス集計表\n"
     ]
    },
    {
     "data": {
      "text/html": [
       "<div>\n",
       "<style scoped>\n",
       "    .dataframe tbody tr th:only-of-type {\n",
       "        vertical-align: middle;\n",
       "    }\n",
       "\n",
       "    .dataframe tbody tr th {\n",
       "        vertical-align: top;\n",
       "    }\n",
       "\n",
       "    .dataframe thead th {\n",
       "        text-align: right;\n",
       "    }\n",
       "</style>\n",
       "<table border=\"1\" class=\"dataframe\">\n",
       "  <thead>\n",
       "    <tr style=\"text-align: right;\">\n",
       "      <th></th>\n",
       "      <th>予測値 = 0</th>\n",
       "      <th>予測値 = 1</th>\n",
       "    </tr>\n",
       "  </thead>\n",
       "  <tbody>\n",
       "    <tr>\n",
       "      <th>正解 = 0</th>\n",
       "      <td>473</td>\n",
       "      <td>107</td>\n",
       "    </tr>\n",
       "    <tr>\n",
       "      <th>正解 = 1</th>\n",
       "      <td>12</td>\n",
       "      <td>408</td>\n",
       "    </tr>\n",
       "  </tbody>\n",
       "</table>\n",
       "</div>"
      ],
      "text/plain": [
       "        予測値 = 0  予測値 = 1\n",
       "正解 = 0      473      107\n",
       "正解 = 1       12      408"
      ]
     },
     "metadata": {},
     "output_type": "display_data"
    }
   ],
   "source": [
    "# scikit-learnのSGDClassifierを使う\n",
    "clf = SGDClassifier(loss='log', penalty='none', max_iter=10000, fit_intercept=True, random_state=1234)\n",
    "\n",
    "# 学習\n",
    "clf.fit(X, y)\n",
    "\n",
    "print('重み')\n",
    "display(clf.intercept_[0])\n",
    "display(clf.coef_[0])\n",
    "\n",
    "# 予測\n",
    "y_est = clf.predict(X)\n",
    "\n",
    "# 結果の確認(この後も何度か使うので関数化しておこう)\n",
    "def check_result(y, y_est):\n",
    "\n",
    "  print('対数尤度')\n",
    "  display(-log_loss(y, y_est))\n",
    "\n",
    "  print('正答率')\n",
    "  print('Accuracy:\\t{:.2%}'.format(accuracy_score(y, y_est)))\n",
    "  print('Precision:\\t{:.2%}'.format(precision_score(y, y_est)))\n",
    "  print('Recall:\\t{:.2%}\\n'.format(recall_score(y, y_est)))\n",
    "\n",
    "  print('予測値と正解のクロス集計表')\n",
    "  conf_mat = pd.DataFrame(confusion_matrix(y, y_est),\n",
    "                        index=['正解 = 0', '正解 = 1'],\n",
    "                        columns=['予測値 = 0', '予測値 = 1'])\n",
    "  display(conf_mat)\n",
    "\n",
    "check_result(y, y_est)"
   ]
  },
  {
   "cell_type": "markdown",
   "metadata": {},
   "source": [
    "### ホールドアウト法"
   ]
  },
  {
   "cell_type": "code",
   "execution_count": 6,
   "metadata": {},
   "outputs": [],
   "source": [
    "# 学習用データとテストデータを分割する\n",
    "X_train, X_test, y_train, y_test = train_test_split(X, y, test_size=0.2, random_state=1234)"
   ]
  },
  {
   "cell_type": "code",
   "execution_count": 7,
   "metadata": {},
   "outputs": [
    {
     "data": {
      "image/png": "[encoded data removed]",
      "text/plain": [
       "<Figure size 432x288 with 1 Axes>"
      ]
     },
     "metadata": {
      "needs_background": "light"
     },
     "output_type": "display_data"
    }
   ],
   "source": [
    "# 学習用データの分布\n",
    "myplot(X_train, y_train)"
   ]
  },
  {
   "cell_type": "code",
   "execution_count": 8,
   "metadata": {},
   "outputs": [
    {
     "data": {
      "image/png": "[encoded data removed]",
      "text/plain": [
       "<Figure size 432x288 with 1 Axes>"
      ]
     },
     "metadata": {
      "needs_background": "light"
     },
     "output_type": "display_data"
    }
   ],
   "source": [
    "# テスト用データの分布\n",
    "myplot(X_test, y_test)"
   ]
  },
  {
   "cell_type": "code",
   "execution_count": 9,
   "metadata": {},
   "outputs": [
    {
     "name": "stdout",
     "output_type": "stream",
     "text": [
      "重み\n"
     ]
    },
    {
     "data": {
      "text/plain": [
       "1210.0697368461842"
      ]
     },
     "metadata": {},
     "output_type": "display_data"
    },
    {
     "data": {
      "text/plain": [
       "array([  -6182.13507637, 1658792.82697299])"
      ]
     },
     "metadata": {},
     "output_type": "display_data"
    }
   ],
   "source": [
    "# scikit-learnのSGDClassifierで学習\n",
    "clf = SGDClassifier(loss='log', penalty='none', max_iter=10000, fit_intercept=True, random_state=1234)\n",
    "clf.fit(X_train, y_train)\n",
    "\n",
    "print('重み')\n",
    "display(clf.intercept_[0])\n",
    "display(clf.coef_[0])"
   ]
  },
  {
   "cell_type": "code",
   "execution_count": 10,
   "metadata": {},
   "outputs": [
    {
     "name": "stdout",
     "output_type": "stream",
     "text": [
      "対数尤度\n"
     ]
    },
    {
     "data": {
      "text/plain": [
       "-3.842518833676834"
      ]
     },
     "metadata": {},
     "output_type": "display_data"
    },
    {
     "name": "stdout",
     "output_type": "stream",
     "text": [
      "正答率\n",
      "Accuracy:\t88.88%\n",
      "Precision:\t80.77%\n",
      "Recall:\t97.39%\n",
      "\n",
      "予測値と正解のクロス集計表\n"
     ]
    },
    {
     "data": {
      "text/html": [
       "<div>\n",
       "<style scoped>\n",
       "    .dataframe tbody tr th:only-of-type {\n",
       "        vertical-align: middle;\n",
       "    }\n",
       "\n",
       "    .dataframe tbody tr th {\n",
       "        vertical-align: top;\n",
       "    }\n",
       "\n",
       "    .dataframe thead th {\n",
       "        text-align: right;\n",
       "    }\n",
       "</style>\n",
       "<table border=\"1\" class=\"dataframe\">\n",
       "  <thead>\n",
       "    <tr style=\"text-align: right;\">\n",
       "      <th></th>\n",
       "      <th>予測値 = 0</th>\n",
       "      <th>予測値 = 1</th>\n",
       "    </tr>\n",
       "  </thead>\n",
       "  <tbody>\n",
       "    <tr>\n",
       "      <th>正解 = 0</th>\n",
       "      <td>375</td>\n",
       "      <td>80</td>\n",
       "    </tr>\n",
       "    <tr>\n",
       "      <th>正解 = 1</th>\n",
       "      <td>9</td>\n",
       "      <td>336</td>\n",
       "    </tr>\n",
       "  </tbody>\n",
       "</table>\n",
       "</div>"
      ],
      "text/plain": [
       "        予測値 = 0  予測値 = 1\n",
       "正解 = 0      375       80\n",
       "正解 = 1        9      336"
      ]
     },
     "metadata": {},
     "output_type": "display_data"
    }
   ],
   "source": [
    "# 訓練誤差\n",
    "y_train_est = clf.predict(X_train)\n",
    "check_result(y_train, y_train_est)"
   ]
  },
  {
   "cell_type": "code",
   "execution_count": 11,
   "metadata": {},
   "outputs": [
    {
     "name": "stdout",
     "output_type": "stream",
     "text": [
      "対数尤度\n"
     ]
    },
    {
     "data": {
      "text/plain": [
       "-5.6990180447747925"
      ]
     },
     "metadata": {},
     "output_type": "display_data"
    },
    {
     "name": "stdout",
     "output_type": "stream",
     "text": [
      "正答率\n",
      "Accuracy:\t83.50%\n",
      "Precision:\t70.59%\n",
      "Recall:\t96.00%\n",
      "\n",
      "予測値と正解のクロス集計表\n"
     ]
    },
    {
     "data": {
      "text/html": [
       "<div>\n",
       "<style scoped>\n",
       "    .dataframe tbody tr th:only-of-type {\n",
       "        vertical-align: middle;\n",
       "    }\n",
       "\n",
       "    .dataframe tbody tr th {\n",
       "        vertical-align: top;\n",
       "    }\n",
       "\n",
       "    .dataframe thead th {\n",
       "        text-align: right;\n",
       "    }\n",
       "</style>\n",
       "<table border=\"1\" class=\"dataframe\">\n",
       "  <thead>\n",
       "    <tr style=\"text-align: right;\">\n",
       "      <th></th>\n",
       "      <th>予測値 = 0</th>\n",
       "      <th>予測値 = 1</th>\n",
       "    </tr>\n",
       "  </thead>\n",
       "  <tbody>\n",
       "    <tr>\n",
       "      <th>正解 = 0</th>\n",
       "      <td>95</td>\n",
       "      <td>30</td>\n",
       "    </tr>\n",
       "    <tr>\n",
       "      <th>正解 = 1</th>\n",
       "      <td>3</td>\n",
       "      <td>72</td>\n",
       "    </tr>\n",
       "  </tbody>\n",
       "</table>\n",
       "</div>"
      ],
      "text/plain": [
       "        予測値 = 0  予測値 = 1\n",
       "正解 = 0       95       30\n",
       "正解 = 1        3       72"
      ]
     },
     "metadata": {},
     "output_type": "display_data"
    }
   ],
   "source": [
    "# 汎化誤差\n",
    "y_test_est = clf.predict(X_test)\n",
    "check_result(y_test, y_test_est)"
   ]
  },
  {
   "cell_type": "markdown",
   "metadata": {},
   "source": [
    "### 交差検証(クロスバリデーション)法"
   ]
  },
  {
   "cell_type": "markdown",
   "metadata": {},
   "source": [
    "Python: pandas の DataFrame を scikit-learn で KFold するときの注意点\n",
    "https://blog.amedama.jp/entry/2018/06/21/235951"
   ]
  },
  {
   "cell_type": "code",
   "execution_count": 24,
   "metadata": {},
   "outputs": [
    {
     "data": {
      "text/html": [
       "<div>\n",
       "<style scoped>\n",
       "    .dataframe tbody tr th:only-of-type {\n",
       "        vertical-align: middle;\n",
       "    }\n",
       "\n",
       "    .dataframe tbody tr th {\n",
       "        vertical-align: top;\n",
       "    }\n",
       "\n",
       "    .dataframe thead th {\n",
       "        text-align: right;\n",
       "    }\n",
       "</style>\n",
       "<table border=\"1\" class=\"dataframe\">\n",
       "  <thead>\n",
       "    <tr style=\"text-align: right;\">\n",
       "      <th></th>\n",
       "      <th>1.対数尤度(LogisticLoss)</th>\n",
       "      <th>2.正確度(Accuracy)</th>\n",
       "      <th>3.適合度(Precision)</th>\n",
       "      <th>4.再現度(Recall)</th>\n",
       "    </tr>\n",
       "  </thead>\n",
       "  <tbody>\n",
       "    <tr>\n",
       "      <th>0</th>\n",
       "      <td>-3.108554</td>\n",
       "      <td>0.910</td>\n",
       "      <td>0.846154</td>\n",
       "      <td>0.977778</td>\n",
       "    </tr>\n",
       "    <tr>\n",
       "      <th>1</th>\n",
       "      <td>-4.835517</td>\n",
       "      <td>0.860</td>\n",
       "      <td>0.782178</td>\n",
       "      <td>0.929412</td>\n",
       "    </tr>\n",
       "    <tr>\n",
       "      <th>2</th>\n",
       "      <td>-3.626651</td>\n",
       "      <td>0.895</td>\n",
       "      <td>0.811321</td>\n",
       "      <td>0.988506</td>\n",
       "    </tr>\n",
       "    <tr>\n",
       "      <th>3</th>\n",
       "      <td>-3.972043</td>\n",
       "      <td>0.885</td>\n",
       "      <td>0.798077</td>\n",
       "      <td>0.976471</td>\n",
       "    </tr>\n",
       "    <tr>\n",
       "      <th>4</th>\n",
       "      <td>-5.180932</td>\n",
       "      <td>0.850</td>\n",
       "      <td>0.712871</td>\n",
       "      <td>0.986301</td>\n",
       "    </tr>\n",
       "  </tbody>\n",
       "</table>\n",
       "</div>"
      ],
      "text/plain": [
       "   1.対数尤度(LogisticLoss)  2.正確度(Accuracy)  3.適合度(Precision)  4.再現度(Recall)\n",
       "0             -3.108554            0.910          0.846154       0.977778\n",
       "1             -4.835517            0.860          0.782178       0.929412\n",
       "2             -3.626651            0.895          0.811321       0.988506\n",
       "3             -3.972043            0.885          0.798077       0.976471\n",
       "4             -5.180932            0.850          0.712871       0.986301"
      ]
     },
     "metadata": {},
     "output_type": "display_data"
    },
    {
     "data": {
      "text/html": [
       "<div>\n",
       "<style scoped>\n",
       "    .dataframe tbody tr th:only-of-type {\n",
       "        vertical-align: middle;\n",
       "    }\n",
       "\n",
       "    .dataframe tbody tr th {\n",
       "        vertical-align: top;\n",
       "    }\n",
       "\n",
       "    .dataframe thead th {\n",
       "        text-align: right;\n",
       "    }\n",
       "</style>\n",
       "<table border=\"1\" class=\"dataframe\">\n",
       "  <thead>\n",
       "    <tr style=\"text-align: right;\">\n",
       "      <th></th>\n",
       "      <th>1.対数尤度(LogisticLoss)</th>\n",
       "      <th>2.正確度(Accuracy)</th>\n",
       "      <th>3.適合度(Precision)</th>\n",
       "      <th>4.再現度(Recall)</th>\n",
       "    </tr>\n",
       "  </thead>\n",
       "  <tbody>\n",
       "    <tr>\n",
       "      <th>count</th>\n",
       "      <td>5.000000</td>\n",
       "      <td>5.000000</td>\n",
       "      <td>5.000000</td>\n",
       "      <td>5.000000</td>\n",
       "    </tr>\n",
       "    <tr>\n",
       "      <th>mean</th>\n",
       "      <td>-4.144740</td>\n",
       "      <td>0.880000</td>\n",
       "      <td>0.790120</td>\n",
       "      <td>0.971693</td>\n",
       "    </tr>\n",
       "    <tr>\n",
       "      <th>std</th>\n",
       "      <td>0.854808</td>\n",
       "      <td>0.024749</td>\n",
       "      <td>0.049201</td>\n",
       "      <td>0.024206</td>\n",
       "    </tr>\n",
       "    <tr>\n",
       "      <th>min</th>\n",
       "      <td>-5.180932</td>\n",
       "      <td>0.850000</td>\n",
       "      <td>0.712871</td>\n",
       "      <td>0.929412</td>\n",
       "    </tr>\n",
       "    <tr>\n",
       "      <th>25%</th>\n",
       "      <td>-4.835517</td>\n",
       "      <td>0.860000</td>\n",
       "      <td>0.782178</td>\n",
       "      <td>0.976471</td>\n",
       "    </tr>\n",
       "    <tr>\n",
       "      <th>50%</th>\n",
       "      <td>-3.972043</td>\n",
       "      <td>0.885000</td>\n",
       "      <td>0.798077</td>\n",
       "      <td>0.977778</td>\n",
       "    </tr>\n",
       "    <tr>\n",
       "      <th>75%</th>\n",
       "      <td>-3.626651</td>\n",
       "      <td>0.895000</td>\n",
       "      <td>0.811321</td>\n",
       "      <td>0.986301</td>\n",
       "    </tr>\n",
       "    <tr>\n",
       "      <th>max</th>\n",
       "      <td>-3.108554</td>\n",
       "      <td>0.910000</td>\n",
       "      <td>0.846154</td>\n",
       "      <td>0.988506</td>\n",
       "    </tr>\n",
       "  </tbody>\n",
       "</table>\n",
       "</div>"
      ],
      "text/plain": [
       "       1.対数尤度(LogisticLoss)  2.正確度(Accuracy)  3.適合度(Precision)  4.再現度(Recall)\n",
       "count              5.000000         5.000000          5.000000       5.000000\n",
       "mean              -4.144740         0.880000          0.790120       0.971693\n",
       "std                0.854808         0.024749          0.049201       0.024206\n",
       "min               -5.180932         0.850000          0.712871       0.929412\n",
       "25%               -4.835517         0.860000          0.782178       0.976471\n",
       "50%               -3.972043         0.885000          0.798077       0.977778\n",
       "75%               -3.626651         0.895000          0.811321       0.986301\n",
       "max               -3.108554         0.910000          0.846154       0.988506"
      ]
     },
     "metadata": {},
     "output_type": "display_data"
    }
   ],
   "source": [
    "# この後何回か繰り返して使うので一連の処理を関数化しておくと幸せになれそう\n",
    "# （ハイパーパラメータも引数で渡せるといいかもね）\n",
    "def kfold_sgdc(X, y):\n",
    "    \n",
    "    # 汎化誤差を格納しておくDataFrameを用意する\n",
    "    scores = pd.DataFrame()\n",
    "\n",
    "    # テスト役を交代させながら学習と評価を繰り返す\n",
    "    kf = KFold(n_splits=5, random_state=1234)\n",
    "    for train_index, test_index in kf.split(X):\n",
    "\n",
    "        # KFoldより与えられたindexを使ってDataFrameからデータを取り出す\n",
    "        X_train = X.iloc[train_index]\n",
    "        y_train = y.iloc[train_index]\n",
    "        X_test = X.iloc[test_index]\n",
    "        y_test = y.iloc[test_index]\n",
    "\n",
    "        # scikit-learnのSGDClassifierで学習\n",
    "        clf = SGDClassifier(loss='log', penalty='none', max_iter=10000,\n",
    "                            fit_intercept=True, random_state=1234)\n",
    "        clf.fit(X_train, y_train)\n",
    "\n",
    "        # 汎化誤差を記録する\n",
    "        y_est = clf.predict(X_test)\n",
    "        scores = scores.append({\n",
    "            '1.対数尤度(LogisticLoss)': -log_loss(y_test, y_est),\n",
    "            '2.正確度(Accuracy)': accuracy_score(y_test, y_est),\n",
    "            '3.適合度(Precision)': precision_score(y_test, y_est),\n",
    "            '4.再現度(Recall)': recall_score(y_test, y_est)\n",
    "        }, ignore_index=True)\n",
    "\n",
    "    # 結果をまとめて確認する。全体の性能は平均値(mean)を見る\n",
    "    display(scores)\n",
    "    display(scores.describe())\n",
    "\n",
    "# 上記で関数として定義した一連の処理を実行\n",
    "kfold_sgdc(X, y)"
   ]
  },
  {
   "cell_type": "markdown",
   "metadata": {},
   "source": [
    "## 欠損値と異常値への対応"
   ]
  },
  {
   "cell_type": "code",
   "execution_count": 95,
   "metadata": {},
   "outputs": [],
   "source": [
    "# 実験用のデータを用意する\n",
    "df3 = df.head(10000)\n",
    "\n",
    "# フィールド名は付け直しておく\n",
    "df3 = df3.rename(columns={\n",
    "    'ID ': 'id', 'name ': 'name', 'category ': 'category', 'main_category ': 'main_category', 'currency ': 'currency',\n",
    "    'deadline ': 'deadline', 'goal ': 'goal', 'launched ': 'launched', 'pledged ': 'pledged', 'state ': 'state',\n",
    "    'backers ': 'backers', 'country ': 'country', 'usd pledged ': 'usd_pledged'})"
   ]
  },
  {
   "cell_type": "code",
   "execution_count": 96,
   "metadata": {},
   "outputs": [
    {
     "data": {
      "text/plain": [
       "id                   0\n",
       "name                 0\n",
       "category             0\n",
       "main_category        0\n",
       "currency             0\n",
       "deadline             0\n",
       "goal                 0\n",
       "launched             0\n",
       "pledged              0\n",
       "state                0\n",
       "backers              0\n",
       "country              0\n",
       "usd_pledged        121\n",
       "Unnamed: 13       9985\n",
       "Unnamed: 14      10000\n",
       "Unnamed: 15      10000\n",
       "Unnamed: 16      10000\n",
       "dtype: int64"
      ]
     },
     "metadata": {},
     "output_type": "display_data"
    }
   ],
   "source": [
    "# 欠損値の確認\n",
    "display(df3.isnull().sum())"
   ]
  },
  {
   "cell_type": "code",
   "execution_count": 97,
   "metadata": {},
   "outputs": [
    {
     "data": {
      "text/html": [
       "<div>\n",
       "<style scoped>\n",
       "    .dataframe tbody tr th:only-of-type {\n",
       "        vertical-align: middle;\n",
       "    }\n",
       "\n",
       "    .dataframe tbody tr th {\n",
       "        vertical-align: top;\n",
       "    }\n",
       "\n",
       "    .dataframe thead th {\n",
       "        text-align: right;\n",
       "    }\n",
       "</style>\n",
       "<table border=\"1\" class=\"dataframe\">\n",
       "  <thead>\n",
       "    <tr style=\"text-align: right;\">\n",
       "      <th></th>\n",
       "      <th>id</th>\n",
       "      <th>name</th>\n",
       "      <th>category</th>\n",
       "      <th>main_category</th>\n",
       "      <th>currency</th>\n",
       "      <th>deadline</th>\n",
       "      <th>goal</th>\n",
       "      <th>launched</th>\n",
       "      <th>pledged</th>\n",
       "      <th>state</th>\n",
       "      <th>backers</th>\n",
       "      <th>country</th>\n",
       "      <th>usd_pledged</th>\n",
       "      <th>Unnamed: 13</th>\n",
       "      <th>Unnamed: 14</th>\n",
       "      <th>Unnamed: 15</th>\n",
       "      <th>Unnamed: 16</th>\n",
       "    </tr>\n",
       "  </thead>\n",
       "  <tbody>\n",
       "    <tr>\n",
       "      <th>150</th>\n",
       "      <td>1000694855</td>\n",
       "      <td>STREETFIGHTERZ WHEELIE MURICA</td>\n",
       "      <td>Film &amp; Video</td>\n",
       "      <td>Film &amp; Video</td>\n",
       "      <td>USD</td>\n",
       "      <td>2014-09-20 06:59:00</td>\n",
       "      <td>6500</td>\n",
       "      <td>2014-08-06 21:28:36</td>\n",
       "      <td>555</td>\n",
       "      <td>undefined</td>\n",
       "      <td>0</td>\n",
       "      <td>N,\"0</td>\n",
       "      <td>NaN</td>\n",
       "      <td>NaN</td>\n",
       "      <td>NaN</td>\n",
       "      <td>NaN</td>\n",
       "      <td>NaN</td>\n",
       "    </tr>\n",
       "    <tr>\n",
       "      <th>287</th>\n",
       "      <td>100149523</td>\n",
       "      <td>Duncan Woods - Chameleon EP</td>\n",
       "      <td>Music</td>\n",
       "      <td>Music</td>\n",
       "      <td>AUD</td>\n",
       "      <td>2015-08-25 23:00:00</td>\n",
       "      <td>4500</td>\n",
       "      <td>2015-08-04 12:05:17</td>\n",
       "      <td>4767</td>\n",
       "      <td>undefined</td>\n",
       "      <td>0</td>\n",
       "      <td>N,\"0</td>\n",
       "      <td>NaN</td>\n",
       "      <td>NaN</td>\n",
       "      <td>NaN</td>\n",
       "      <td>NaN</td>\n",
       "      <td>NaN</td>\n",
       "    </tr>\n",
       "    <tr>\n",
       "      <th>549</th>\n",
       "      <td>1003023003</td>\n",
       "      <td>The Making of Ashley Kelley's Debut Album</td>\n",
       "      <td>Music</td>\n",
       "      <td>Music</td>\n",
       "      <td>USD</td>\n",
       "      <td>2015-04-09 21:06:13</td>\n",
       "      <td>3500</td>\n",
       "      <td>2015-03-10 20:06:13</td>\n",
       "      <td>3576</td>\n",
       "      <td>undefined</td>\n",
       "      <td>0</td>\n",
       "      <td>N,\"0</td>\n",
       "      <td>NaN</td>\n",
       "      <td>NaN</td>\n",
       "      <td>NaN</td>\n",
       "      <td>NaN</td>\n",
       "      <td>NaN</td>\n",
       "    </tr>\n",
       "    <tr>\n",
       "      <th>561</th>\n",
       "      <td>1003130892</td>\n",
       "      <td>Butter Side Down Debut Album</td>\n",
       "      <td>Music</td>\n",
       "      <td>Music</td>\n",
       "      <td>USD</td>\n",
       "      <td>2015-11-26 10:59:00</td>\n",
       "      <td>6000</td>\n",
       "      <td>2015-11-02 22:09:19</td>\n",
       "      <td>7007.8</td>\n",
       "      <td>undefined</td>\n",
       "      <td>0</td>\n",
       "      <td>N,\"0</td>\n",
       "      <td>NaN</td>\n",
       "      <td>NaN</td>\n",
       "      <td>NaN</td>\n",
       "      <td>NaN</td>\n",
       "      <td>NaN</td>\n",
       "    </tr>\n",
       "    <tr>\n",
       "      <th>650</th>\n",
       "      <td>1003629045</td>\n",
       "      <td>Chase Goehring debut EP</td>\n",
       "      <td>Music</td>\n",
       "      <td>Music</td>\n",
       "      <td>USD</td>\n",
       "      <td>2016-03-21 06:00:00</td>\n",
       "      <td>3000</td>\n",
       "      <td>2016-02-23 03:09:49</td>\n",
       "      <td>3660.38</td>\n",
       "      <td>undefined</td>\n",
       "      <td>0</td>\n",
       "      <td>N,\"0</td>\n",
       "      <td>NaN</td>\n",
       "      <td>NaN</td>\n",
       "      <td>NaN</td>\n",
       "      <td>NaN</td>\n",
       "      <td>NaN</td>\n",
       "    </tr>\n",
       "  </tbody>\n",
       "</table>\n",
       "</div>"
      ],
      "text/plain": [
       "             id                                       name      category  \\\n",
       "150  1000694855              STREETFIGHTERZ WHEELIE MURICA  Film & Video   \n",
       "287   100149523                Duncan Woods - Chameleon EP         Music   \n",
       "549  1003023003  The Making of Ashley Kelley's Debut Album         Music   \n",
       "561  1003130892               Butter Side Down Debut Album         Music   \n",
       "650  1003629045                    Chase Goehring debut EP         Music   \n",
       "\n",
       "    main_category currency             deadline  goal             launched  \\\n",
       "150  Film & Video      USD  2014-09-20 06:59:00  6500  2014-08-06 21:28:36   \n",
       "287         Music      AUD  2015-08-25 23:00:00  4500  2015-08-04 12:05:17   \n",
       "549         Music      USD  2015-04-09 21:06:13  3500  2015-03-10 20:06:13   \n",
       "561         Music      USD  2015-11-26 10:59:00  6000  2015-11-02 22:09:19   \n",
       "650         Music      USD  2016-03-21 06:00:00  3000  2016-02-23 03:09:49   \n",
       "\n",
       "     pledged      state backers country usd_pledged Unnamed: 13 Unnamed: 14  \\\n",
       "150      555  undefined       0    N,\"0         NaN         NaN         NaN   \n",
       "287     4767  undefined       0    N,\"0         NaN         NaN         NaN   \n",
       "549     3576  undefined       0    N,\"0         NaN         NaN         NaN   \n",
       "561   7007.8  undefined       0    N,\"0         NaN         NaN         NaN   \n",
       "650  3660.38  undefined       0    N,\"0         NaN         NaN         NaN   \n",
       "\n",
       "    Unnamed: 15  Unnamed: 16  \n",
       "150         NaN          NaN  \n",
       "287         NaN          NaN  \n",
       "549         NaN          NaN  \n",
       "561         NaN          NaN  \n",
       "650         NaN          NaN  "
      ]
     },
     "metadata": {},
     "output_type": "display_data"
    },
    {
     "data": {
      "text/html": [
       "<div>\n",
       "<style scoped>\n",
       "    .dataframe tbody tr th:only-of-type {\n",
       "        vertical-align: middle;\n",
       "    }\n",
       "\n",
       "    .dataframe tbody tr th {\n",
       "        vertical-align: top;\n",
       "    }\n",
       "\n",
       "    .dataframe thead th {\n",
       "        text-align: right;\n",
       "    }\n",
       "</style>\n",
       "<table border=\"1\" class=\"dataframe\">\n",
       "  <thead>\n",
       "    <tr style=\"text-align: right;\">\n",
       "      <th></th>\n",
       "      <th>id</th>\n",
       "      <th>name</th>\n",
       "      <th>category</th>\n",
       "      <th>main_category</th>\n",
       "      <th>currency</th>\n",
       "      <th>deadline</th>\n",
       "      <th>goal</th>\n",
       "      <th>launched</th>\n",
       "      <th>pledged</th>\n",
       "      <th>state</th>\n",
       "      <th>backers</th>\n",
       "      <th>country</th>\n",
       "      <th>usd_pledged</th>\n",
       "      <th>Unnamed: 13</th>\n",
       "      <th>Unnamed: 14</th>\n",
       "      <th>Unnamed: 15</th>\n",
       "      <th>Unnamed: 16</th>\n",
       "    </tr>\n",
       "  </thead>\n",
       "  <tbody>\n",
       "    <tr>\n",
       "      <th>1454</th>\n",
       "      <td>1008705746</td>\n",
       "      <td>Zephyra´s new full length</td>\n",
       "      <td>'As The World Collapses'</td>\n",
       "      <td>Metal</td>\n",
       "      <td>Music</td>\n",
       "      <td>SEK</td>\n",
       "      <td>2016-02-02 00:56:46</td>\n",
       "      <td>15000</td>\n",
       "      <td>2016-01-03 00:56:46</td>\n",
       "      <td>4262</td>\n",
       "      <td>failed</td>\n",
       "      <td>14</td>\n",
       "      <td>SE</td>\n",
       "      <td>504.94765278</td>\n",
       "      <td>NaN</td>\n",
       "      <td>NaN</td>\n",
       "      <td>NaN</td>\n",
       "    </tr>\n",
       "    <tr>\n",
       "      <th>1563</th>\n",
       "      <td>1009317190</td>\n",
       "      <td>French Cuisine</td>\n",
       "      <td>A Traditional Experience</td>\n",
       "      <td>Cookbooks</td>\n",
       "      <td>Food</td>\n",
       "      <td>USD</td>\n",
       "      <td>2014-09-08 00:46:23</td>\n",
       "      <td>13730</td>\n",
       "      <td>2014-08-09 03:16:02</td>\n",
       "      <td>3984</td>\n",
       "      <td>failed</td>\n",
       "      <td>46</td>\n",
       "      <td>US</td>\n",
       "      <td>3984</td>\n",
       "      <td>NaN</td>\n",
       "      <td>NaN</td>\n",
       "      <td>NaN</td>\n",
       "    </tr>\n",
       "    <tr>\n",
       "      <th>1794</th>\n",
       "      <td>1010871699</td>\n",
       "      <td>The Beginners Guide to being Unsuicidal</td>\n",
       "      <td>the one act</td>\n",
       "      <td>Theater</td>\n",
       "      <td>Theater</td>\n",
       "      <td>USD</td>\n",
       "      <td>2011-12-31 23:25:46</td>\n",
       "      <td>5000</td>\n",
       "      <td>2011-11-21 23:25:46</td>\n",
       "      <td>525</td>\n",
       "      <td>failed</td>\n",
       "      <td>10</td>\n",
       "      <td>US</td>\n",
       "      <td>525</td>\n",
       "      <td>NaN</td>\n",
       "      <td>NaN</td>\n",
       "      <td>NaN</td>\n",
       "    </tr>\n",
       "    <tr>\n",
       "      <th>1931</th>\n",
       "      <td>1011687764</td>\n",
       "      <td>Best OnLine Classifieds</td>\n",
       "      <td>Ever / No More Spam</td>\n",
       "      <td>Web</td>\n",
       "      <td>Technology</td>\n",
       "      <td>USD</td>\n",
       "      <td>2014-09-20 19:56:10</td>\n",
       "      <td>6300</td>\n",
       "      <td>2014-08-21 19:56:10</td>\n",
       "      <td>0</td>\n",
       "      <td>failed</td>\n",
       "      <td>0</td>\n",
       "      <td>US</td>\n",
       "      <td>0</td>\n",
       "      <td>NaN</td>\n",
       "      <td>NaN</td>\n",
       "      <td>NaN</td>\n",
       "    </tr>\n",
       "    <tr>\n",
       "      <th>2420</th>\n",
       "      <td>101453314</td>\n",
       "      <td>Social Media Ruined My Life</td>\n",
       "      <td>A Short Film from Adam S Curtis</td>\n",
       "      <td>Shorts</td>\n",
       "      <td>Film &amp; Video</td>\n",
       "      <td>USD</td>\n",
       "      <td>2013-03-14 20:11:57</td>\n",
       "      <td>3000</td>\n",
       "      <td>2013-02-25 21:11:57</td>\n",
       "      <td>3035</td>\n",
       "      <td>successful</td>\n",
       "      <td>42</td>\n",
       "      <td>US</td>\n",
       "      <td>3035</td>\n",
       "      <td>NaN</td>\n",
       "      <td>NaN</td>\n",
       "      <td>NaN</td>\n",
       "    </tr>\n",
       "  </tbody>\n",
       "</table>\n",
       "</div>"
      ],
      "text/plain": [
       "              id                                     name  \\\n",
       "1454  1008705746                Zephyra´s new full length   \n",
       "1563  1009317190                           French Cuisine   \n",
       "1794  1010871699  The Beginners Guide to being Unsuicidal   \n",
       "1931  1011687764                  Best OnLine Classifieds   \n",
       "2420   101453314              Social Media Ruined My Life   \n",
       "\n",
       "                              category main_category      currency deadline  \\\n",
       "1454          'As The World Collapses'         Metal         Music      SEK   \n",
       "1563          A Traditional Experience     Cookbooks          Food      USD   \n",
       "1794                       the one act       Theater       Theater      USD   \n",
       "1931               Ever / No More Spam           Web    Technology      USD   \n",
       "2420   A Short Film from Adam S Curtis        Shorts  Film & Video      USD   \n",
       "\n",
       "                     goal launched              pledged state     backers  \\\n",
       "1454  2016-02-02 00:56:46    15000  2016-01-03 00:56:46  4262      failed   \n",
       "1563  2014-09-08 00:46:23    13730  2014-08-09 03:16:02  3984      failed   \n",
       "1794  2011-12-31 23:25:46     5000  2011-11-21 23:25:46   525      failed   \n",
       "1931  2014-09-20 19:56:10     6300  2014-08-21 19:56:10     0      failed   \n",
       "2420  2013-03-14 20:11:57     3000  2013-02-25 21:11:57  3035  successful   \n",
       "\n",
       "     country usd_pledged   Unnamed: 13 Unnamed: 14 Unnamed: 15  Unnamed: 16  \n",
       "1454      14          SE  504.94765278         NaN         NaN          NaN  \n",
       "1563      46          US          3984         NaN         NaN          NaN  \n",
       "1794      10          US           525         NaN         NaN          NaN  \n",
       "1931       0          US             0         NaN         NaN          NaN  \n",
       "2420      42          US          3035         NaN         NaN          NaN  "
      ]
     },
     "metadata": {},
     "output_type": "display_data"
    },
    {
     "data": {
      "text/plain": [
       "id                  0\n",
       "name                0\n",
       "category            0\n",
       "main_category       0\n",
       "currency            0\n",
       "deadline            0\n",
       "goal                0\n",
       "launched            0\n",
       "pledged             0\n",
       "state               0\n",
       "backers             0\n",
       "country             0\n",
       "usd_pledged         0\n",
       "Unnamed: 13      9864\n",
       "Unnamed: 14      9864\n",
       "Unnamed: 15      9864\n",
       "Unnamed: 16      9864\n",
       "dtype: int64"
      ]
     },
     "metadata": {},
     "output_type": "display_data"
    }
   ],
   "source": [
    "# 列数が合っていないものはパースエラーなので除外する\n",
    "\n",
    "# 念のため確認\n",
    "display(df3[df3['usd_pledged'].isnull()].head()) # \"N,\"\"0\"\n",
    "display(df3[df3['Unnamed: 13'].notnull()].head()) # nameにカンマ\n",
    "\n",
    "# 除外\n",
    "df3 = df3[df3['usd_pledged'].notnull()]\n",
    "df3 = df3[df3['Unnamed: 13'].isnull()]\n",
    "\n",
    "# 改めて欠損値を確認\n",
    "display(df3.isnull().sum())"
   ]
  },
  {
   "cell_type": "code",
   "execution_count": 98,
   "metadata": {},
   "outputs": [],
   "source": [
    "# stateの中身を確認\n",
    "df3['state'].value_counts()\n",
    "\n",
    "# 成否が明確なもの以外は使わない\n",
    "df3 = df3[df3['state'].isin(['successful', 'failed'])]\n",
    "\n",
    "# 目的関数は1/0で表す\n",
    "df3['obj'] = df3['state'] == 'successful'"
   ]
  },
  {
   "cell_type": "code",
   "execution_count": 99,
   "metadata": {},
   "outputs": [],
   "source": [
    "# ここまでのフィルタリングするとノイズがなくなるので型変換が通るようになる\n",
    "df3 = df3.astype({'goal': float, 'pledged': float, 'backers': float, 'usd_pledged': float})"
   ]
  },
  {
   "cell_type": "code",
   "execution_count": 100,
   "metadata": {},
   "outputs": [
    {
     "data": {
      "image/png": "[encoded data removed]",
      "text/plain": [
       "<Figure size 432x288 with 1 Axes>"
      ]
     },
     "metadata": {
      "needs_background": "light"
     },
     "output_type": "display_data"
    },
    {
     "data": {
      "text/html": [
       "<div>\n",
       "<style scoped>\n",
       "    .dataframe tbody tr th:only-of-type {\n",
       "        vertical-align: middle;\n",
       "    }\n",
       "\n",
       "    .dataframe tbody tr th {\n",
       "        vertical-align: top;\n",
       "    }\n",
       "\n",
       "    .dataframe thead th {\n",
       "        text-align: right;\n",
       "    }\n",
       "</style>\n",
       "<table border=\"1\" class=\"dataframe\">\n",
       "  <thead>\n",
       "    <tr style=\"text-align: right;\">\n",
       "      <th></th>\n",
       "      <th>id</th>\n",
       "      <th>name</th>\n",
       "      <th>category</th>\n",
       "      <th>main_category</th>\n",
       "      <th>currency</th>\n",
       "      <th>deadline</th>\n",
       "      <th>goal</th>\n",
       "      <th>launched</th>\n",
       "      <th>pledged</th>\n",
       "      <th>state</th>\n",
       "      <th>backers</th>\n",
       "      <th>country</th>\n",
       "      <th>usd_pledged</th>\n",
       "      <th>Unnamed: 13</th>\n",
       "      <th>Unnamed: 14</th>\n",
       "      <th>Unnamed: 15</th>\n",
       "      <th>Unnamed: 16</th>\n",
       "      <th>obj</th>\n",
       "    </tr>\n",
       "  </thead>\n",
       "  <tbody>\n",
       "    <tr>\n",
       "      <th>2708</th>\n",
       "      <td>1016210580</td>\n",
       "      <td>INDIRA – THE FIRST INDIAN GRAND MUSICAL</td>\n",
       "      <td>Musical</td>\n",
       "      <td>Theater</td>\n",
       "      <td>EUR</td>\n",
       "      <td>2016-04-27 13:08:01</td>\n",
       "      <td>15000000.0</td>\n",
       "      <td>2016-02-27 13:08:01</td>\n",
       "      <td>15.0</td>\n",
       "      <td>failed</td>\n",
       "      <td>6.0</td>\n",
       "      <td>ES</td>\n",
       "      <td>16.593655</td>\n",
       "      <td>NaN</td>\n",
       "      <td>NaN</td>\n",
       "      <td>NaN</td>\n",
       "      <td>NaN</td>\n",
       "      <td>False</td>\n",
       "    </tr>\n",
       "    <tr>\n",
       "      <th>6436</th>\n",
       "      <td>1037984441</td>\n",
       "      <td>Irie Jamboree - My life in Jamaica...</td>\n",
       "      <td>Film &amp; Video</td>\n",
       "      <td>Film &amp; Video</td>\n",
       "      <td>SEK</td>\n",
       "      <td>2015-04-05 08:08:28</td>\n",
       "      <td>12000000.0</td>\n",
       "      <td>2015-02-04 08:08:28</td>\n",
       "      <td>8.0</td>\n",
       "      <td>failed</td>\n",
       "      <td>1.0</td>\n",
       "      <td>SE</td>\n",
       "      <td>0.963898</td>\n",
       "      <td>NaN</td>\n",
       "      <td>NaN</td>\n",
       "      <td>NaN</td>\n",
       "      <td>NaN</td>\n",
       "      <td>False</td>\n",
       "    </tr>\n",
       "    <tr>\n",
       "      <th>7852</th>\n",
       "      <td>1046235166</td>\n",
       "      <td>Duel</td>\n",
       "      <td>Science Fiction</td>\n",
       "      <td>Film &amp; Video</td>\n",
       "      <td>USD</td>\n",
       "      <td>2016-03-06 15:00:11</td>\n",
       "      <td>10000000.0</td>\n",
       "      <td>2016-01-06 15:00:11</td>\n",
       "      <td>100.0</td>\n",
       "      <td>failed</td>\n",
       "      <td>2.0</td>\n",
       "      <td>US</td>\n",
       "      <td>100.000000</td>\n",
       "      <td>NaN</td>\n",
       "      <td>NaN</td>\n",
       "      <td>NaN</td>\n",
       "      <td>NaN</td>\n",
       "      <td>False</td>\n",
       "    </tr>\n",
       "    <tr>\n",
       "      <th>2577</th>\n",
       "      <td>1015466274</td>\n",
       "      <td>Genesis</td>\n",
       "      <td>Film &amp; Video</td>\n",
       "      <td>Film &amp; Video</td>\n",
       "      <td>EUR</td>\n",
       "      <td>2015-09-01 23:55:00</td>\n",
       "      <td>5000000.0</td>\n",
       "      <td>2015-07-07 21:14:52</td>\n",
       "      <td>0.0</td>\n",
       "      <td>failed</td>\n",
       "      <td>0.0</td>\n",
       "      <td>IT</td>\n",
       "      <td>0.000000</td>\n",
       "      <td>NaN</td>\n",
       "      <td>NaN</td>\n",
       "      <td>NaN</td>\n",
       "      <td>NaN</td>\n",
       "      <td>False</td>\n",
       "    </tr>\n",
       "    <tr>\n",
       "      <th>8007</th>\n",
       "      <td>1047060472</td>\n",
       "      <td>E.T Scooter , World's most innovative electric...</td>\n",
       "      <td>Technology</td>\n",
       "      <td>Technology</td>\n",
       "      <td>SEK</td>\n",
       "      <td>2014-12-12 19:59:29</td>\n",
       "      <td>4000000.0</td>\n",
       "      <td>2014-11-12 19:59:29</td>\n",
       "      <td>35.0</td>\n",
       "      <td>failed</td>\n",
       "      <td>2.0</td>\n",
       "      <td>SE</td>\n",
       "      <td>4.717757</td>\n",
       "      <td>NaN</td>\n",
       "      <td>NaN</td>\n",
       "      <td>NaN</td>\n",
       "      <td>NaN</td>\n",
       "      <td>False</td>\n",
       "    </tr>\n",
       "  </tbody>\n",
       "</table>\n",
       "</div>"
      ],
      "text/plain": [
       "              id                                               name  \\\n",
       "2708  1016210580            INDIRA – THE FIRST INDIAN GRAND MUSICAL   \n",
       "6436  1037984441              Irie Jamboree - My life in Jamaica...   \n",
       "7852  1046235166                                               Duel   \n",
       "2577  1015466274                                            Genesis   \n",
       "8007  1047060472  E.T Scooter , World's most innovative electric...   \n",
       "\n",
       "             category main_category currency             deadline        goal  \\\n",
       "2708          Musical       Theater      EUR  2016-04-27 13:08:01  15000000.0   \n",
       "6436     Film & Video  Film & Video      SEK  2015-04-05 08:08:28  12000000.0   \n",
       "7852  Science Fiction  Film & Video      USD  2016-03-06 15:00:11  10000000.0   \n",
       "2577     Film & Video  Film & Video      EUR  2015-09-01 23:55:00   5000000.0   \n",
       "8007       Technology    Technology      SEK  2014-12-12 19:59:29   4000000.0   \n",
       "\n",
       "                 launched  pledged   state  backers country  usd_pledged  \\\n",
       "2708  2016-02-27 13:08:01     15.0  failed      6.0      ES    16.593655   \n",
       "6436  2015-02-04 08:08:28      8.0  failed      1.0      SE     0.963898   \n",
       "7852  2016-01-06 15:00:11    100.0  failed      2.0      US   100.000000   \n",
       "2577  2015-07-07 21:14:52      0.0  failed      0.0      IT     0.000000   \n",
       "8007  2014-11-12 19:59:29     35.0  failed      2.0      SE     4.717757   \n",
       "\n",
       "     Unnamed: 13 Unnamed: 14 Unnamed: 15  Unnamed: 16    obj  \n",
       "2708         NaN         NaN         NaN          NaN  False  \n",
       "6436         NaN         NaN         NaN          NaN  False  \n",
       "7852         NaN         NaN         NaN          NaN  False  \n",
       "2577         NaN         NaN         NaN          NaN  False  \n",
       "8007         NaN         NaN         NaN          NaN  False  "
      ]
     },
     "execution_count": 100,
     "metadata": {},
     "output_type": "execute_result"
    }
   ],
   "source": [
    "# goal について\n",
    "k = 'goal'\n",
    "\n",
    "#ヒストグラムで確認\n",
    "ax=plt.subplot()\n",
    "ax.hist(df3[k], bins=20, color='r')\n",
    "ax.set_ylim([0, 30])\n",
    "plt.show()\n",
    "\n",
    "# 極端に大きい値を実データを目視確認\n",
    "df3.sort_values(k, ascending=False).head()\n",
    "# 特におかしなデータではなさそう\n",
    "# 標準化して使おう\n",
    "\n",
    "# 標準化するならこう。学習データとテストデータを分離してからやる必要がある\n",
    "# df3[k + '_sc'] = StandardScaler().fit_transform(df3[[k]].values)"
   ]
  },
  {
   "cell_type": "code",
   "execution_count": 101,
   "metadata": {},
   "outputs": [
    {
     "data": {
      "image/png": "[encoded data removed]",
      "text/plain": [
       "<Figure size 432x288 with 1 Axes>"
      ]
     },
     "metadata": {
      "needs_background": "light"
     },
     "output_type": "display_data"
    },
    {
     "data": {
      "text/html": [
       "<div>\n",
       "<style scoped>\n",
       "    .dataframe tbody tr th:only-of-type {\n",
       "        vertical-align: middle;\n",
       "    }\n",
       "\n",
       "    .dataframe tbody tr th {\n",
       "        vertical-align: top;\n",
       "    }\n",
       "\n",
       "    .dataframe thead th {\n",
       "        text-align: right;\n",
       "    }\n",
       "</style>\n",
       "<table border=\"1\" class=\"dataframe\">\n",
       "  <thead>\n",
       "    <tr style=\"text-align: right;\">\n",
       "      <th></th>\n",
       "      <th>id</th>\n",
       "      <th>name</th>\n",
       "      <th>category</th>\n",
       "      <th>main_category</th>\n",
       "      <th>currency</th>\n",
       "      <th>deadline</th>\n",
       "      <th>goal</th>\n",
       "      <th>launched</th>\n",
       "      <th>pledged</th>\n",
       "      <th>state</th>\n",
       "      <th>backers</th>\n",
       "      <th>country</th>\n",
       "      <th>usd_pledged</th>\n",
       "      <th>Unnamed: 13</th>\n",
       "      <th>Unnamed: 14</th>\n",
       "      <th>Unnamed: 15</th>\n",
       "      <th>Unnamed: 16</th>\n",
       "      <th>obj</th>\n",
       "    </tr>\n",
       "  </thead>\n",
       "  <tbody>\n",
       "    <tr>\n",
       "      <th>5704</th>\n",
       "      <td>1033978702</td>\n",
       "      <td>OUYA: A New Kind of Video Game Console</td>\n",
       "      <td>Gaming Hardware</td>\n",
       "      <td>Games</td>\n",
       "      <td>USD</td>\n",
       "      <td>2012-08-09 07:00:00</td>\n",
       "      <td>950000.0</td>\n",
       "      <td>2012-07-10 14:44:41</td>\n",
       "      <td>8596474.58</td>\n",
       "      <td>successful</td>\n",
       "      <td>63416.0</td>\n",
       "      <td>US</td>\n",
       "      <td>8.596475e+06</td>\n",
       "      <td>NaN</td>\n",
       "      <td>NaN</td>\n",
       "      <td>NaN</td>\n",
       "      <td>NaN</td>\n",
       "      <td>True</td>\n",
       "    </tr>\n",
       "    <tr>\n",
       "      <th>7726</th>\n",
       "      <td>1045500705</td>\n",
       "      <td>Zombicide: Black Plague</td>\n",
       "      <td>Tabletop Games</td>\n",
       "      <td>Games</td>\n",
       "      <td>USD</td>\n",
       "      <td>2015-07-07 02:00:00</td>\n",
       "      <td>125000.0</td>\n",
       "      <td>2015-06-08 20:59:38</td>\n",
       "      <td>4079204.52</td>\n",
       "      <td>successful</td>\n",
       "      <td>20915.0</td>\n",
       "      <td>US</td>\n",
       "      <td>4.079205e+06</td>\n",
       "      <td>NaN</td>\n",
       "      <td>NaN</td>\n",
       "      <td>NaN</td>\n",
       "      <td>NaN</td>\n",
       "      <td>True</td>\n",
       "    </tr>\n",
       "    <tr>\n",
       "      <th>8530</th>\n",
       "      <td>1050139758</td>\n",
       "      <td>KULT: Divinity Lost - Horror Roleplaying Game ...</td>\n",
       "      <td>Tabletop Games</td>\n",
       "      <td>Games</td>\n",
       "      <td>SEK</td>\n",
       "      <td>2016-03-31 23:00:00</td>\n",
       "      <td>95000.0</td>\n",
       "      <td>2016-02-25 15:01:18</td>\n",
       "      <td>2746655.75</td>\n",
       "      <td>successful</td>\n",
       "      <td>2733.0</td>\n",
       "      <td>SE</td>\n",
       "      <td>3.235310e+05</td>\n",
       "      <td>NaN</td>\n",
       "      <td>NaN</td>\n",
       "      <td>NaN</td>\n",
       "      <td>NaN</td>\n",
       "      <td>True</td>\n",
       "    </tr>\n",
       "    <tr>\n",
       "      <th>4743</th>\n",
       "      <td>1028274367</td>\n",
       "      <td>Oculus Rift: Step Into the Game</td>\n",
       "      <td>Gaming Hardware</td>\n",
       "      <td>Games</td>\n",
       "      <td>USD</td>\n",
       "      <td>2012-09-01 08:00:00</td>\n",
       "      <td>250000.0</td>\n",
       "      <td>2012-08-01 16:51:23</td>\n",
       "      <td>2437429.75</td>\n",
       "      <td>successful</td>\n",
       "      <td>9522.0</td>\n",
       "      <td>US</td>\n",
       "      <td>2.437430e+06</td>\n",
       "      <td>NaN</td>\n",
       "      <td>NaN</td>\n",
       "      <td>NaN</td>\n",
       "      <td>NaN</td>\n",
       "      <td>True</td>\n",
       "    </tr>\n",
       "    <tr>\n",
       "      <th>2958</th>\n",
       "      <td>101767263</td>\n",
       "      <td>3Doodler: The World's First 3D Printing Pen</td>\n",
       "      <td>Hardware</td>\n",
       "      <td>Technology</td>\n",
       "      <td>USD</td>\n",
       "      <td>2013-03-25 05:08:59</td>\n",
       "      <td>30000.0</td>\n",
       "      <td>2013-02-19 06:08:59</td>\n",
       "      <td>2344134.67</td>\n",
       "      <td>successful</td>\n",
       "      <td>26457.0</td>\n",
       "      <td>US</td>\n",
       "      <td>2.344135e+06</td>\n",
       "      <td>NaN</td>\n",
       "      <td>NaN</td>\n",
       "      <td>NaN</td>\n",
       "      <td>NaN</td>\n",
       "      <td>True</td>\n",
       "    </tr>\n",
       "  </tbody>\n",
       "</table>\n",
       "</div>"
      ],
      "text/plain": [
       "              id                                               name  \\\n",
       "5704  1033978702             OUYA: A New Kind of Video Game Console   \n",
       "7726  1045500705                            Zombicide: Black Plague   \n",
       "8530  1050139758  KULT: Divinity Lost - Horror Roleplaying Game ...   \n",
       "4743  1028274367                    Oculus Rift: Step Into the Game   \n",
       "2958   101767263        3Doodler: The World's First 3D Printing Pen   \n",
       "\n",
       "             category main_category currency             deadline      goal  \\\n",
       "5704  Gaming Hardware         Games      USD  2012-08-09 07:00:00  950000.0   \n",
       "7726   Tabletop Games         Games      USD  2015-07-07 02:00:00  125000.0   \n",
       "8530   Tabletop Games         Games      SEK  2016-03-31 23:00:00   95000.0   \n",
       "4743  Gaming Hardware         Games      USD  2012-09-01 08:00:00  250000.0   \n",
       "2958         Hardware    Technology      USD  2013-03-25 05:08:59   30000.0   \n",
       "\n",
       "                 launched     pledged       state  backers country  \\\n",
       "5704  2012-07-10 14:44:41  8596474.58  successful  63416.0      US   \n",
       "7726  2015-06-08 20:59:38  4079204.52  successful  20915.0      US   \n",
       "8530  2016-02-25 15:01:18  2746655.75  successful   2733.0      SE   \n",
       "4743  2012-08-01 16:51:23  2437429.75  successful   9522.0      US   \n",
       "2958  2013-02-19 06:08:59  2344134.67  successful  26457.0      US   \n",
       "\n",
       "       usd_pledged Unnamed: 13 Unnamed: 14 Unnamed: 15  Unnamed: 16   obj  \n",
       "5704  8.596475e+06         NaN         NaN         NaN          NaN  True  \n",
       "7726  4.079205e+06         NaN         NaN         NaN          NaN  True  \n",
       "8530  3.235310e+05         NaN         NaN         NaN          NaN  True  \n",
       "4743  2.437430e+06         NaN         NaN         NaN          NaN  True  \n",
       "2958  2.344135e+06         NaN         NaN         NaN          NaN  True  "
      ]
     },
     "execution_count": 101,
     "metadata": {},
     "output_type": "execute_result"
    }
   ],
   "source": [
    "# pledged について\n",
    "k = 'pledged'\n",
    "\n",
    "#ヒストグラムで確認\n",
    "ax=plt.subplot()\n",
    "ax.hist(df3[k], bins=20, color='r')\n",
    "ax.set_ylim([0, 30])\n",
    "plt.show()\n",
    "\n",
    "# 極端に大きい値を実データを目視確認\n",
    "df3.sort_values(k, ascending=False).head()\n",
    "# 特におかしなデータではなさそう\n",
    "# 標準化して使おう"
   ]
  },
  {
   "cell_type": "code",
   "execution_count": 102,
   "metadata": {},
   "outputs": [
    {
     "data": {
      "image/png": "[encoded data removed]",
      "text/plain": [
       "<Figure size 432x288 with 1 Axes>"
      ]
     },
     "metadata": {
      "needs_background": "light"
     },
     "output_type": "display_data"
    },
    {
     "data": {
      "text/html": [
       "<div>\n",
       "<style scoped>\n",
       "    .dataframe tbody tr th:only-of-type {\n",
       "        vertical-align: middle;\n",
       "    }\n",
       "\n",
       "    .dataframe tbody tr th {\n",
       "        vertical-align: top;\n",
       "    }\n",
       "\n",
       "    .dataframe thead th {\n",
       "        text-align: right;\n",
       "    }\n",
       "</style>\n",
       "<table border=\"1\" class=\"dataframe\">\n",
       "  <thead>\n",
       "    <tr style=\"text-align: right;\">\n",
       "      <th></th>\n",
       "      <th>id</th>\n",
       "      <th>name</th>\n",
       "      <th>category</th>\n",
       "      <th>main_category</th>\n",
       "      <th>currency</th>\n",
       "      <th>deadline</th>\n",
       "      <th>goal</th>\n",
       "      <th>launched</th>\n",
       "      <th>pledged</th>\n",
       "      <th>state</th>\n",
       "      <th>backers</th>\n",
       "      <th>country</th>\n",
       "      <th>usd_pledged</th>\n",
       "      <th>Unnamed: 13</th>\n",
       "      <th>Unnamed: 14</th>\n",
       "      <th>Unnamed: 15</th>\n",
       "      <th>Unnamed: 16</th>\n",
       "      <th>obj</th>\n",
       "    </tr>\n",
       "  </thead>\n",
       "  <tbody>\n",
       "    <tr>\n",
       "      <th>5704</th>\n",
       "      <td>1033978702</td>\n",
       "      <td>OUYA: A New Kind of Video Game Console</td>\n",
       "      <td>Gaming Hardware</td>\n",
       "      <td>Games</td>\n",
       "      <td>USD</td>\n",
       "      <td>2012-08-09 07:00:00</td>\n",
       "      <td>950000.0</td>\n",
       "      <td>2012-07-10 14:44:41</td>\n",
       "      <td>8596474.58</td>\n",
       "      <td>successful</td>\n",
       "      <td>63416.0</td>\n",
       "      <td>US</td>\n",
       "      <td>8596474.58</td>\n",
       "      <td>NaN</td>\n",
       "      <td>NaN</td>\n",
       "      <td>NaN</td>\n",
       "      <td>NaN</td>\n",
       "      <td>True</td>\n",
       "    </tr>\n",
       "    <tr>\n",
       "      <th>3794</th>\n",
       "      <td>1022576045</td>\n",
       "      <td>Polygons | The Flat 4-in-1 Measuring Spoon</td>\n",
       "      <td>Product Design</td>\n",
       "      <td>Design</td>\n",
       "      <td>USD</td>\n",
       "      <td>2016-11-20 17:57:34</td>\n",
       "      <td>10000.0</td>\n",
       "      <td>2016-10-11 17:57:34</td>\n",
       "      <td>1022120.70</td>\n",
       "      <td>successful</td>\n",
       "      <td>36863.0</td>\n",
       "      <td>US</td>\n",
       "      <td>135121.00</td>\n",
       "      <td>NaN</td>\n",
       "      <td>NaN</td>\n",
       "      <td>NaN</td>\n",
       "      <td>NaN</td>\n",
       "      <td>True</td>\n",
       "    </tr>\n",
       "    <tr>\n",
       "      <th>8528</th>\n",
       "      <td>1050138201</td>\n",
       "      <td>Pressy - the Almighty Android Button!</td>\n",
       "      <td>Product Design</td>\n",
       "      <td>Design</td>\n",
       "      <td>USD</td>\n",
       "      <td>2013-10-14 21:22:37</td>\n",
       "      <td>40000.0</td>\n",
       "      <td>2013-08-28 21:22:37</td>\n",
       "      <td>695138.50</td>\n",
       "      <td>successful</td>\n",
       "      <td>28818.0</td>\n",
       "      <td>US</td>\n",
       "      <td>695138.50</td>\n",
       "      <td>NaN</td>\n",
       "      <td>NaN</td>\n",
       "      <td>NaN</td>\n",
       "      <td>NaN</td>\n",
       "      <td>True</td>\n",
       "    </tr>\n",
       "    <tr>\n",
       "      <th>2958</th>\n",
       "      <td>101767263</td>\n",
       "      <td>3Doodler: The World's First 3D Printing Pen</td>\n",
       "      <td>Hardware</td>\n",
       "      <td>Technology</td>\n",
       "      <td>USD</td>\n",
       "      <td>2013-03-25 05:08:59</td>\n",
       "      <td>30000.0</td>\n",
       "      <td>2013-02-19 06:08:59</td>\n",
       "      <td>2344134.67</td>\n",
       "      <td>successful</td>\n",
       "      <td>26457.0</td>\n",
       "      <td>US</td>\n",
       "      <td>2344134.67</td>\n",
       "      <td>NaN</td>\n",
       "      <td>NaN</td>\n",
       "      <td>NaN</td>\n",
       "      <td>NaN</td>\n",
       "      <td>True</td>\n",
       "    </tr>\n",
       "    <tr>\n",
       "      <th>7726</th>\n",
       "      <td>1045500705</td>\n",
       "      <td>Zombicide: Black Plague</td>\n",
       "      <td>Tabletop Games</td>\n",
       "      <td>Games</td>\n",
       "      <td>USD</td>\n",
       "      <td>2015-07-07 02:00:00</td>\n",
       "      <td>125000.0</td>\n",
       "      <td>2015-06-08 20:59:38</td>\n",
       "      <td>4079204.52</td>\n",
       "      <td>successful</td>\n",
       "      <td>20915.0</td>\n",
       "      <td>US</td>\n",
       "      <td>4079204.52</td>\n",
       "      <td>NaN</td>\n",
       "      <td>NaN</td>\n",
       "      <td>NaN</td>\n",
       "      <td>NaN</td>\n",
       "      <td>True</td>\n",
       "    </tr>\n",
       "  </tbody>\n",
       "</table>\n",
       "</div>"
      ],
      "text/plain": [
       "              id                                         name  \\\n",
       "5704  1033978702       OUYA: A New Kind of Video Game Console   \n",
       "3794  1022576045   Polygons | The Flat 4-in-1 Measuring Spoon   \n",
       "8528  1050138201        Pressy - the Almighty Android Button!   \n",
       "2958   101767263  3Doodler: The World's First 3D Printing Pen   \n",
       "7726  1045500705                      Zombicide: Black Plague   \n",
       "\n",
       "             category main_category currency             deadline      goal  \\\n",
       "5704  Gaming Hardware         Games      USD  2012-08-09 07:00:00  950000.0   \n",
       "3794   Product Design        Design      USD  2016-11-20 17:57:34   10000.0   \n",
       "8528   Product Design        Design      USD  2013-10-14 21:22:37   40000.0   \n",
       "2958         Hardware    Technology      USD  2013-03-25 05:08:59   30000.0   \n",
       "7726   Tabletop Games         Games      USD  2015-07-07 02:00:00  125000.0   \n",
       "\n",
       "                 launched     pledged       state  backers country  \\\n",
       "5704  2012-07-10 14:44:41  8596474.58  successful  63416.0      US   \n",
       "3794  2016-10-11 17:57:34  1022120.70  successful  36863.0      US   \n",
       "8528  2013-08-28 21:22:37   695138.50  successful  28818.0      US   \n",
       "2958  2013-02-19 06:08:59  2344134.67  successful  26457.0      US   \n",
       "7726  2015-06-08 20:59:38  4079204.52  successful  20915.0      US   \n",
       "\n",
       "      usd_pledged Unnamed: 13 Unnamed: 14 Unnamed: 15  Unnamed: 16   obj  \n",
       "5704   8596474.58         NaN         NaN         NaN          NaN  True  \n",
       "3794    135121.00         NaN         NaN         NaN          NaN  True  \n",
       "8528    695138.50         NaN         NaN         NaN          NaN  True  \n",
       "2958   2344134.67         NaN         NaN         NaN          NaN  True  \n",
       "7726   4079204.52         NaN         NaN         NaN          NaN  True  "
      ]
     },
     "execution_count": 102,
     "metadata": {},
     "output_type": "execute_result"
    }
   ],
   "source": [
    "# backers について\n",
    "k = 'backers'\n",
    "\n",
    "#ヒストグラムで確認\n",
    "ax=plt.subplot()\n",
    "ax.hist(df3[k], bins=20, color='r')\n",
    "ax.set_ylim([0, 30])\n",
    "plt.show()\n",
    "\n",
    "# 極端に大きい値を実データを目視確認\n",
    "df3.sort_values(k, ascending=False).head()\n",
    "# 特におかしなデータではなさそう\n",
    "# 標準化して使おう"
   ]
  },
  {
   "cell_type": "code",
   "execution_count": 69,
   "metadata": {},
   "outputs": [
    {
     "data": {
      "image/png": "[encoded data removed]",
      "text/plain": [
       "<Figure size 432x288 with 2 Axes>"
      ]
     },
     "metadata": {
      "needs_background": "light"
     },
     "output_type": "display_data"
    }
   ],
   "source": [
    "# 相関関係をヒートマップで可視化\n",
    "sns.heatmap(df3.corr(), vmax=1, vmin=-1, center=0)\n",
    "plt.show()"
   ]
  },
  {
   "cell_type": "code",
   "execution_count": 70,
   "metadata": {
    "scrolled": true
   },
   "outputs": [
    {
     "name": "stdout",
     "output_type": "stream",
     "text": [
      "相関係数: 0.842\n"
     ]
    },
    {
     "data": {
      "image/png": "[encoded data removed]",
      "text/plain": [
       "<Figure size 432x288 with 1 Axes>"
      ]
     },
     "metadata": {
      "needs_background": "light"
     },
     "output_type": "display_data"
    }
   ],
   "source": [
    "# pledged と backers は相関係数が強いことが分かる\n",
    "print('相関係数: {:.3f}'.format(np.corrcoef(df3['pledged'], df3['backers'])[0,1]))\n",
    "\n",
    "# 散布図で見る\n",
    "plt.scatter(df3['pledged'], df3['backers'], c=\"pink\", alpha=0.5, linewidths=\"1\", edgecolors=\"red\")\n",
    "plt.grid(True)\n",
    "plt.xlabel('pledged')\n",
    "plt.ylabel('backers')\n",
    "plt.show()\n",
    "\n",
    "# 確かに相関関係がありそう\n",
    "# 無相関化しよう\n",
    "\n",
    "#  無相関化を行うための一連の処理\n",
    "#cov = np.cov(data1, rowvar=0) # 分散・共分散を求める\n",
    "#_, S = np.linalg.eig(cov)           # 分散共分散行列の固有ベクトルを用いて\n",
    "#data1_decorr = np.dot(S.T, data1.T).T #データを無相関化"
   ]
  },
  {
   "cell_type": "code",
   "execution_count": 103,
   "metadata": {},
   "outputs": [
    {
     "data": {
      "image/png": "[encoded data removed]",
      "text/plain": [
       "<Figure size 432x288 with 1 Axes>"
      ]
     },
     "metadata": {
      "needs_background": "light"
     },
     "output_type": "display_data"
    },
    {
     "data": {
      "image/png": "[encoded data removed]",
      "text/plain": [
       "<Figure size 432x288 with 1 Axes>"
      ]
     },
     "metadata": {
      "needs_background": "light"
     },
     "output_type": "display_data"
    },
    {
     "data": {
      "image/png": "[encoded data removed]",
      "text/plain": [
       "<Figure size 432x288 with 1 Axes>"
      ]
     },
     "metadata": {
      "needs_background": "light"
     },
     "output_type": "display_data"
    }
   ],
   "source": [
    "# main_categoryをクロス集計表で確認\n",
    "df3['main_category'].value_counts().plot(kind=\"bar\")\n",
    "pd.crosstab(df3['main_category'], df3['obj']).plot(kind=\"bar\", stacked=True)\n",
    "pd.crosstab(df3['main_category'], df3['obj'], margins=True, normalize='index').plot(kind=\"bar\", stacked=True)\n",
    "plt.tight_layout()\n",
    "plt.show()\n",
    "# ダミー変数化して使おう"
   ]
  },
  {
   "cell_type": "code",
   "execution_count": 22,
   "metadata": {},
   "outputs": [
    {
     "data": {
      "image/png": "[encoded data removed]",
      "text/plain": [
       "<Figure size 432x288 with 1 Axes>"
      ]
     },
     "metadata": {
      "needs_background": "light"
     },
     "output_type": "display_data"
    },
    {
     "data": {
      "image/png": "[encoded data removed]",
      "text/plain": [
       "<Figure size 432x288 with 1 Axes>"
      ]
     },
     "metadata": {
      "needs_background": "light"
     },
     "output_type": "display_data"
    },
    {
     "data": {
      "image/png": "[encoded data removed]",
      "text/plain": [
       "<Figure size 432x288 with 1 Axes>"
      ]
     },
     "metadata": {
      "needs_background": "light"
     },
     "output_type": "display_data"
    }
   ],
   "source": [
    "# currencyをクロス集計表で確認\n",
    "df3['currency'].value_counts().plot(kind=\"bar\")\n",
    "pd.crosstab(df3['currency'], df3['state']).plot(kind=\"bar\", stacked=True)\n",
    "pd.crosstab(df3['currency'], df3['state'], margins=True, normalize='index').plot(kind=\"bar\", stacked=True)\n",
    "plt.tight_layout()\n",
    "plt.show()\n",
    "# ダミー変数化して使おう"
   ]
  },
  {
   "cell_type": "markdown",
   "metadata": {},
   "source": [
    "ここまでを踏まえて実行結果を比較してみる"
   ]
  },
  {
   "cell_type": "code",
   "execution_count": 105,
   "metadata": {},
   "outputs": [
    {
     "data": {
      "text/plain": [
       "[<matplotlib.lines.Line2D at 0x115c0bba8>]"
      ]
     },
     "execution_count": 105,
     "metadata": {},
     "output_type": "execute_result"
    },
    {
     "data": {
      "image/png": "[encoded data removed]",
      "text/plain": [
       "<Figure size 432x288 with 1 Axes>"
      ]
     },
     "metadata": {
      "needs_background": "light"
     },
     "output_type": "display_data"
    }
   ],
   "source": [
    "plt.plot(df3[df3['obj']]['goal'], df3[df3['obj']]['pledged'], 'o', color='C1', alpha=0.2)\n",
    "plt.plot(df3[~df3['obj']]['goal'], df3[~df3['obj']]['pledged'], '^', color='C0', alpha=0.2)"
   ]
  },
  {
   "cell_type": "code",
   "execution_count": 139,
   "metadata": {},
   "outputs": [
    {
     "name": "stdout",
     "output_type": "stream",
     "text": [
      "対数尤度\n"
     ]
    },
    {
     "data": {
      "text/plain": [
       "-3.360485639139478"
      ]
     },
     "metadata": {},
     "output_type": "display_data"
    },
    {
     "name": "stdout",
     "output_type": "stream",
     "text": [
      "正答率\n",
      "Accuracy:\t90.27%\n",
      "Precision:\t82.84%\n",
      "Recall:\t95.55%\n",
      "\n",
      "予測値と正解のクロス集計表\n"
     ]
    },
    {
     "data": {
      "text/html": [
       "<div>\n",
       "<style scoped>\n",
       "    .dataframe tbody tr th:only-of-type {\n",
       "        vertical-align: middle;\n",
       "    }\n",
       "\n",
       "    .dataframe tbody tr th {\n",
       "        vertical-align: top;\n",
       "    }\n",
       "\n",
       "    .dataframe thead th {\n",
       "        text-align: right;\n",
       "    }\n",
       "</style>\n",
       "<table border=\"1\" class=\"dataframe\">\n",
       "  <thead>\n",
       "    <tr style=\"text-align: right;\">\n",
       "      <th></th>\n",
       "      <th>予測値 = 0</th>\n",
       "      <th>予測値 = 1</th>\n",
       "    </tr>\n",
       "  </thead>\n",
       "  <tbody>\n",
       "    <tr>\n",
       "      <th>正解 = 0</th>\n",
       "      <td>902</td>\n",
       "      <td>138</td>\n",
       "    </tr>\n",
       "    <tr>\n",
       "      <th>正解 = 1</th>\n",
       "      <td>31</td>\n",
       "      <td>666</td>\n",
       "    </tr>\n",
       "  </tbody>\n",
       "</table>\n",
       "</div>"
      ],
      "text/plain": [
       "        予測値 = 0  予測値 = 1\n",
       "正解 = 0      902      138\n",
       "正解 = 1       31      666"
      ]
     },
     "metadata": {},
     "output_type": "display_data"
    }
   ],
   "source": [
    "# まずはこれらのフィールドをそのまま使う\n",
    "X1 = df3[['goal', 'backers']] # pledgedは封印\n",
    "y1 = df3['obj']\n",
    "\n",
    "X1_train, X1_test, y1_train, y1_test = train_test_split(X1, y1, test_size=0.2, random_state=1234)\n",
    "clf = SGDClassifier(loss='log', penalty='none', max_iter=10000, fit_intercept=True, random_state=1234)\n",
    "clf.fit(X1_train, y1_train)\n",
    "y1_est = clf.predict(X1_test)\n",
    "check_result(y1_test, y1_est)"
   ]
  },
  {
   "cell_type": "code",
   "execution_count": 142,
   "metadata": {},
   "outputs": [
    {
     "name": "stdout",
     "output_type": "stream",
     "text": [
      "相関係数: 0.033\n",
      "相関係数: 0.000\n",
      "相関係数: 0.013\n",
      "相関係数: -0.006\n"
     ]
    }
   ],
   "source": [
    "# 前述のデータをコピーしてここに手を加えていく\n",
    "X2_train = X1_train.copy()\n",
    "y2_train = y1_train.copy()\n",
    "X2_test = X1_test.copy()\n",
    "y2_test = y1_test.copy()\n",
    "\n",
    "# 学習データを無相関化\n",
    "# （元々相関関係は強くないんだけど、まぁ一応やり方を確認しておこう）\n",
    "cov = np.cov(X1_train, rowvar=0) # 分散・共分散を求める\n",
    "_, S = np.linalg.eig(cov) # 分散共分散行列の固有ベクトルを用いて\n",
    "decorr = np.dot(S.T, X1_train.T).T # 学習データを無相関化\n",
    "X2_train['goal'] = decorr[:, 0]\n",
    "X2_train['backers'] = decorr[:, 1]\n",
    "print('相関係数: {:.3f}'.format(np.corrcoef(X1_train['goal'], X1_train['backers'])[0,1]))\n",
    "print('相関係数: {:.3f}'.format(np.corrcoef(X2_train['goal'], X2_train['backers'])[0,1]))\n",
    "\n",
    "# 学習データから取得した固有ベクトルを用いてテストデータを無相関化\n",
    "decorr = np.dot(S.T, X1_test.T).T\n",
    "X2_test['goal'] = decorr[:, 0]\n",
    "X2_test['backers'] = decorr[:, 1]\n",
    "print('相関係数: {:.3f}'.format(np.corrcoef(X1_test['goal'], X1_test['backers'])[0,1]))\n",
    "print('相関係数: {:.3f}'.format(np.corrcoef(X2_test['goal'], X2_test['backers'])[0,1]))"
   ]
  },
  {
   "cell_type": "code",
   "execution_count": 143,
   "metadata": {},
   "outputs": [
    {
     "name": "stdout",
     "output_type": "stream",
     "text": [
      "対数尤度\n"
     ]
    },
    {
     "data": {
      "text/plain": [
       "-3.360485639139478"
      ]
     },
     "metadata": {},
     "output_type": "display_data"
    },
    {
     "name": "stdout",
     "output_type": "stream",
     "text": [
      "正答率\n",
      "Accuracy:\t90.27%\n",
      "Precision:\t82.84%\n",
      "Recall:\t95.55%\n",
      "\n",
      "予測値と正解のクロス集計表\n"
     ]
    },
    {
     "data": {
      "text/html": [
       "<div>\n",
       "<style scoped>\n",
       "    .dataframe tbody tr th:only-of-type {\n",
       "        vertical-align: middle;\n",
       "    }\n",
       "\n",
       "    .dataframe tbody tr th {\n",
       "        vertical-align: top;\n",
       "    }\n",
       "\n",
       "    .dataframe thead th {\n",
       "        text-align: right;\n",
       "    }\n",
       "</style>\n",
       "<table border=\"1\" class=\"dataframe\">\n",
       "  <thead>\n",
       "    <tr style=\"text-align: right;\">\n",
       "      <th></th>\n",
       "      <th>予測値 = 0</th>\n",
       "      <th>予測値 = 1</th>\n",
       "    </tr>\n",
       "  </thead>\n",
       "  <tbody>\n",
       "    <tr>\n",
       "      <th>正解 = 0</th>\n",
       "      <td>902</td>\n",
       "      <td>138</td>\n",
       "    </tr>\n",
       "    <tr>\n",
       "      <th>正解 = 1</th>\n",
       "      <td>31</td>\n",
       "      <td>666</td>\n",
       "    </tr>\n",
       "  </tbody>\n",
       "</table>\n",
       "</div>"
      ],
      "text/plain": [
       "        予測値 = 0  予測値 = 1\n",
       "正解 = 0      902      138\n",
       "正解 = 1       31      666"
      ]
     },
     "metadata": {},
     "output_type": "display_data"
    }
   ],
   "source": [
    "# 無相関化したデータで学習＆汎化性能評価\n",
    "clf = SGDClassifier(loss='log', penalty='none', max_iter=10000, fit_intercept=True, random_state=1234)\n",
    "clf.fit(X2_train, y2_train)\n",
    "y2_est = clf.predict(X2_test)\n",
    "check_result(y2_test, y2_est)"
   ]
  },
  {
   "cell_type": "markdown",
   "metadata": {},
   "source": [
    "案の定ほとんど結果は変わらない"
   ]
  },
  {
   "cell_type": "markdown",
   "metadata": {},
   "source": [
    "* TODO1: 標準化\n",
    "* TODO2: 質的変数をダミー変数化"
   ]
  },
  {
   "cell_type": "code",
   "execution_count": null,
   "metadata": {},
   "outputs": [],
   "source": []
  }
 ],
 "metadata": {
  "kernelspec": {
   "display_name": "Python 3",
   "language": "python",
   "name": "python3"
  },
  "language_info": {
   "codemirror_mode": {
    "name": "ipython",
    "version": 3
   },
   "file_extension": ".py",
   "mimetype": "text/x-python",
   "name": "python",
   "nbconvert_exporter": "python",
   "pygments_lexer": "ipython3",
   "version": "3.6.6"
  }
 },
 "nbformat": 4,
 "nbformat_minor": 2
}
