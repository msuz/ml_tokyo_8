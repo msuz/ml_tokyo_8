{
 "cells": [
  {
   "cell_type": "markdown",
   "metadata": {},
   "source": [
    "# ナイーブベイズ分類器\n",
    "参考：データ分析のための機械学習入門 p98-113\n",
    "https://isbn.sbcr.jp/88084.html"
   ]
  },
  {
   "cell_type": "code",
   "execution_count": 1,
   "metadata": {},
   "outputs": [],
   "source": [
    "from collections import defaultdict"
   ]
  },
  {
   "cell_type": "code",
   "execution_count": 2,
   "metadata": {},
   "outputs": [],
   "source": [
    "# ナイーブベイズ分類器\n",
    "class NaiveBayesClassifier:\n",
    "\n",
    "    # 保持すべき値を初期化する\n",
    "    def __init__(self):\n",
    "        self.alpha = 1\n",
    "        self.total = 0\n",
    "        self.categories = defaultdict(int) # ex. {'Good': 4, 'Bad': 4}\n",
    "        self.features = defaultdict(lambda: defaultdict(int)) # ex. {'よい': {'Good': 3, 'Bad': 1}, '最悪': {'Bad': 2}}\n",
    "    \n",
    "    # 学習\n",
    "    def fit(self, features, category):\n",
    "        self.total += 1\n",
    "        self.categories[category] += 1\n",
    "        for f in features:\n",
    "            self.features[f][category] += 1\n",
    "        return\n",
    "    \n",
    "    # P(カテゴリ) = (カテゴリの出現回数+α) /  (総数+α*カテゴリ数)\n",
    "    def p_category(self, category):\n",
    "        score = self.categories[category] + self.alpha\n",
    "        score /= (self.total + self.alpha * len(self.categories))\n",
    "        return score\n",
    "\n",
    "    # P(素性|カテゴリ) = (素性を含むカテゴリの出現回数+α) /  (カテゴリの出現回数+2α)\n",
    "    def p_feature_category(self, feature, category):\n",
    "        score = self.features[feature][category] + self.alpha\n",
    "        score /= (self.categories[category] + self.alpha * 2)\n",
    "        return score\n",
    "\n",
    "    # 適用\n",
    "    def predict(self, features):\n",
    "        max_score = -1.0\n",
    "        max_category = None\n",
    "        \n",
    "        for c in self.categories:\n",
    "\n",
    "            # カテゴリの確率\n",
    "            score = self.p_category(c)\n",
    "            \n",
    "            # カテゴリにおける各素性の条件付き確率\n",
    "            for f in self.features:\n",
    "                p = self.p_feature_category(f, c)\n",
    "                score *= p if f in features else (1 - p) # 書籍に誤植あり、修正済み\n",
    "            \n",
    "            #  スコアが最大となるカテゴリを採択する\n",
    "            if score > max_score:\n",
    "                max_score = score\n",
    "                max_category = c\n",
    "        \n",
    "        return max_category, max_score"
   ]
  },
  {
   "cell_type": "code",
   "execution_count": 3,
   "metadata": {},
   "outputs": [],
   "source": [
    "# 学習用データ\n",
    "training_data = [\n",
    "    [['よい', 'とても'], 'Good'],\n",
    "    [['よい', 'とても', 'すばらしい'], 'Good'],\n",
    "    [['よい', 'すばらしい', '見つかりません'], 'Good'],\n",
    "    [['すばらしい'], 'Good'],\n",
    "    [['見つかりません', '買いたくない'], 'Bad'],\n",
    "    [['よい'], 'Bad'],\n",
    "    [['とても', '最悪', '買いたくない'], 'Bad'], # 書籍に誤植あり、修正済み\n",
    "    [['最悪'], 'Bad'],\n",
    "]\n",
    "test_data = [\n",
    "    ['よい', 'とても'],\n",
    "    ['とても', 'すばらしい', '買いたくない'],\n",
    "    ['最悪']\n",
    "]"
   ]
  },
  {
   "cell_type": "code",
   "execution_count": 4,
   "metadata": {},
   "outputs": [],
   "source": [
    "# インスタンス作成\n",
    "nbc = NaiveBayesClassifier()\n",
    "\n",
    "# 学習\n",
    "for f, c in training_data:\n",
    "    nbc.fit(f, c)"
   ]
  },
  {
   "cell_type": "code",
   "execution_count": 5,
   "metadata": {},
   "outputs": [
    {
     "name": "stdout",
     "output_type": "stream",
     "text": [
      "p(Good) = 0.500000\n",
      "p(Bad) = 0.500000\n",
      "p(よい, Good) = 0.666667\n",
      "p(よい, Bad) = 0.333333\n",
      "p(とても, Good) = 0.500000\n",
      "p(とても, Bad) = 0.333333\n",
      "p(すばらしい, Good) = 0.666667\n",
      "p(すばらしい, Bad) = 0.166667\n",
      "p(見つかりません, Good) = 0.333333\n",
      "p(見つかりません, Bad) = 0.333333\n",
      "p(買いたくない, Good) = 0.166667\n",
      "p(買いたくない, Bad) = 0.500000\n",
      "p(最悪, Good) = 0.166667\n",
      "p(最悪, Bad) = 0.500000\n"
     ]
    }
   ],
   "source": [
    "# 学習結果の確認\n",
    "\n",
    "# 各カテゴリの確率\n",
    "for c in nbc.categories:\n",
    "    print('p(%s) = %f' % (c, nbc.p_category(c)))\n",
    "\n",
    "# 各カテゴリにおける各素性の条件付き確率\n",
    "for f in nbc.features:\n",
    "    for c in nbc.categories:\n",
    "        print('p(%s, %s) = %f' % (f, c, nbc.p_feature_category(f, c)))"
   ]
  },
  {
   "cell_type": "code",
   "execution_count": 6,
   "metadata": {},
   "outputs": [
    {
     "name": "stdout",
     "output_type": "stream",
     "text": [
      "['よい', 'とても'] ('Good', 0.025720164609053502)\n",
      "['とても', 'すばらしい', '買いたくない'] ('Good', 0.0051440329218107005)\n",
      "['最悪'] ('Bad', 0.03086419753086421)\n"
     ]
    }
   ],
   "source": [
    "# 適用\n",
    "for f in test_data:\n",
    "    print(f, nbc.predict(f))"
   ]
  },
  {
   "cell_type": "code",
   "execution_count": 7,
   "metadata": {},
   "outputs": [
    {
     "name": "stdout",
     "output_type": "stream",
     "text": [
      "['よい', 'とても'] ('Good', 0.03515625)\n",
      "['とても', 'すばらしい', '買いたくない'] ('Good', 0.0)\n",
      "['最悪'] ('Bad', 0.052734375)\n"
     ]
    }
   ],
   "source": [
    "# α=0だと出現回数が少ない素性において極端な判定結果となる\n",
    "# α=1などで分母と分子の値にゲタを履かせることで精度が上がる\n",
    "nbc.alpha = 0\n",
    "for f in test_data:\n",
    "    print(f, nbc.predict(f))"
   ]
  }
 ],
 "metadata": {
  "kernelspec": {
   "display_name": "Python 3",
   "language": "python",
   "name": "python3"
  },
  "language_info": {
   "codemirror_mode": {
    "name": "ipython",
    "version": 3
   },
   "file_extension": ".py",
   "mimetype": "text/x-python",
   "name": "python",
   "nbconvert_exporter": "python",
   "pygments_lexer": "ipython3",
   "version": "3.6.6"
  }
 },
 "nbformat": 4,
 "nbformat_minor": 2
}
