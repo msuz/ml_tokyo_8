{
 "cells": [
  {
   "cell_type": "markdown",
   "metadata": {},
   "source": [
    "# Day3課題 - 鈴木雅彦"
   ]
  },
  {
   "cell_type": "markdown",
   "metadata": {},
   "source": [
    "## 前置き\n",
    "\n",
    "11/3(土)のDay3講義中に以下のことが決まった。\n",
    "- 全員で精度を競いつつ、有効な手法を共有する\n",
    "- 対象の課題は「Car Fuel Consumption」（回帰問題）で統一する\n",
    "- 先頭10%をテストデータ、残りの90%を学習用データとする\n",
    "\n",
    "鈴木はDay1,2課題にて「Kickstarter Projects」（分類問題）に取り組んでいたので１から取り組む。"
   ]
  },
  {
   "cell_type": "markdown",
   "metadata": {},
   "source": [
    "## Pythonライブラリを読み込む"
   ]
  },
  {
   "cell_type": "code",
   "execution_count": 1,
   "metadata": {},
   "outputs": [],
   "source": [
    "# データハンドリング\n",
    "import numpy as np\n",
    "import pandas as pd\n",
    "\n",
    "# 可視化\n",
    "%matplotlib inline\n",
    "import matplotlib.pyplot as plt\n",
    "import seaborn as sns\n",
    "\n",
    "# 前処理\n",
    "from sklearn.preprocessing import MinMaxScaler # 正規化\n",
    "from sklearn.preprocessing import StandardScaler # 標準化\n",
    "\n",
    "# 汎化誤差検証\n",
    "from sklearn.model_selection import train_test_split # ホールドアウト法\n",
    "from sklearn.model_selection import KFold # 交差検証法\n",
    "\n",
    "# 分類問題\n",
    "from sklearn.linear_model import SGDClassifier # ロジスティック回帰\n",
    "from sklearn.metrics import confusion_matrix # 結果の可視化\n",
    "from sklearn.metrics import log_loss # 性能評価\n",
    "from sklearn.metrics import accuracy_score # 性能評価\n",
    "from sklearn.metrics import precision_score # 性能評価\n",
    "from sklearn.metrics import recall_score # 性能評価\n",
    "\n",
    "# 回帰問題\n"
   ]
  },
  {
   "cell_type": "markdown",
   "metadata": {},
   "source": [
    "## データファイルを取得する"
   ]
  },
  {
   "cell_type": "markdown",
   "metadata": {},
   "source": [
    "1. [Car Fuel Consumption | Kaggle](https://www.kaggle.com/anderas/car-consume)ページを開く\n",
    "\n",
    "1. [DownloadAll](https://www.kaggle.com/anderas/car-consume/downloads/car-consume.zip/5) リンクからZIPをダウンロードする\n",
    "\n",
    "1. ZIPを解答する\n",
    "```\n",
    "$ cd ~/Downloads\n",
    "$ unzip car-consume.zip\n",
    "```\n",
    "\n",
    "1. データファイルを作業フォルダに配置する\n",
    "```\n",
    "$ cp ~/Downloads/measurements.csv ~/Desktop/ml_tokyo_8/git/data/\n",
    "```\n",
    "\n",
    "1. gitにpushしておく\n",
    "```\n",
    "$ git add data/measurements.csv \n",
    "$ git commit -m 'https://www.kaggle.com/anderas/car-consume'\n",
    "$ git push\n",
    "```"
   ]
  },
  {
   "cell_type": "markdown",
   "metadata": {},
   "source": [
    "|型 |名称 |説明 |\n",
    "|---|-----|----|\n",
    "|# |distance        |距離 |\n",
    "|# |consume       |消費量 |\n",
    "|# |speed            |速度 |\n",
    "|# |temp_inside   |車内温度 |\n",
    "|# |temp_outside |社外温度 |\n",
    "|A |specials         |特記事項 (ACとrainの内容と重複) |\n",
    "|A |gas_type       |ガソリン種別 SP98:ハイオク, E10:バイオエタノール10％混合 |\n",
    "|# |AC                |AC電源利用有無(？) |\n",
    "|# |rain               |雨が降っていたかどうか |\n",
    "|# |sun               | |\n",
    "|# |refill liters      |給油量 |\n",
    "|A |refill gas        |給油ガソリン種別 |"
   ]
  },
  {
   "cell_type": "code",
   "execution_count": 2,
   "metadata": {},
   "outputs": [
    {
     "name": "stdout",
     "output_type": "stream",
     "text": [
      "/Users/suzukimasahiko/Desktop/ml_tokyo_8/git\n",
      "     389     410   14561 data/measurements.csv\n"
     ]
    }
   ],
   "source": [
    "# ファイルの確認\n",
    "!pwd\n",
    "!wc data/measurements.csv"
   ]
  },
  {
   "cell_type": "markdown",
   "metadata": {},
   "source": [
    "## データファイルの読み込む"
   ]
  },
  {
   "cell_type": "code",
   "execution_count": 52,
   "metadata": {},
   "outputs": [
    {
     "data": {
      "text/plain": [
       "(388, 12)"
      ]
     },
     "metadata": {},
     "output_type": "display_data"
    },
    {
     "data": {
      "text/plain": [
       "RangeIndex(start=0, stop=388, step=1)"
      ]
     },
     "metadata": {},
     "output_type": "display_data"
    },
    {
     "data": {
      "text/html": [
       "<div>\n",
       "<style scoped>\n",
       "    .dataframe tbody tr th:only-of-type {\n",
       "        vertical-align: middle;\n",
       "    }\n",
       "\n",
       "    .dataframe tbody tr th {\n",
       "        vertical-align: top;\n",
       "    }\n",
       "\n",
       "    .dataframe thead th {\n",
       "        text-align: right;\n",
       "    }\n",
       "</style>\n",
       "<table border=\"1\" class=\"dataframe\">\n",
       "  <thead>\n",
       "    <tr style=\"text-align: right;\">\n",
       "      <th></th>\n",
       "      <th>name</th>\n",
       "      <th>dtypes</th>\n",
       "      <th>count</th>\n",
       "      <th>null</th>\n",
       "    </tr>\n",
       "  </thead>\n",
       "  <tbody>\n",
       "    <tr>\n",
       "      <th>distance</th>\n",
       "      <td>distance</td>\n",
       "      <td>object</td>\n",
       "      <td>388</td>\n",
       "      <td>0</td>\n",
       "    </tr>\n",
       "    <tr>\n",
       "      <th>consume</th>\n",
       "      <td>consume</td>\n",
       "      <td>object</td>\n",
       "      <td>388</td>\n",
       "      <td>0</td>\n",
       "    </tr>\n",
       "    <tr>\n",
       "      <th>speed</th>\n",
       "      <td>speed</td>\n",
       "      <td>int64</td>\n",
       "      <td>388</td>\n",
       "      <td>0</td>\n",
       "    </tr>\n",
       "    <tr>\n",
       "      <th>temp_inside</th>\n",
       "      <td>temp_inside</td>\n",
       "      <td>object</td>\n",
       "      <td>376</td>\n",
       "      <td>12</td>\n",
       "    </tr>\n",
       "    <tr>\n",
       "      <th>temp_outside</th>\n",
       "      <td>temp_outside</td>\n",
       "      <td>int64</td>\n",
       "      <td>388</td>\n",
       "      <td>0</td>\n",
       "    </tr>\n",
       "    <tr>\n",
       "      <th>specials</th>\n",
       "      <td>specials</td>\n",
       "      <td>object</td>\n",
       "      <td>93</td>\n",
       "      <td>295</td>\n",
       "    </tr>\n",
       "    <tr>\n",
       "      <th>gas_type</th>\n",
       "      <td>gas_type</td>\n",
       "      <td>object</td>\n",
       "      <td>388</td>\n",
       "      <td>0</td>\n",
       "    </tr>\n",
       "    <tr>\n",
       "      <th>AC</th>\n",
       "      <td>AC</td>\n",
       "      <td>int64</td>\n",
       "      <td>388</td>\n",
       "      <td>0</td>\n",
       "    </tr>\n",
       "    <tr>\n",
       "      <th>rain</th>\n",
       "      <td>rain</td>\n",
       "      <td>int64</td>\n",
       "      <td>388</td>\n",
       "      <td>0</td>\n",
       "    </tr>\n",
       "    <tr>\n",
       "      <th>sun</th>\n",
       "      <td>sun</td>\n",
       "      <td>int64</td>\n",
       "      <td>388</td>\n",
       "      <td>0</td>\n",
       "    </tr>\n",
       "    <tr>\n",
       "      <th>refill liters</th>\n",
       "      <td>refill liters</td>\n",
       "      <td>object</td>\n",
       "      <td>13</td>\n",
       "      <td>375</td>\n",
       "    </tr>\n",
       "    <tr>\n",
       "      <th>refill gas</th>\n",
       "      <td>refill gas</td>\n",
       "      <td>object</td>\n",
       "      <td>13</td>\n",
       "      <td>375</td>\n",
       "    </tr>\n",
       "  </tbody>\n",
       "</table>\n",
       "</div>"
      ],
      "text/plain": [
       "                        name  dtypes  count  null\n",
       "distance            distance  object    388     0\n",
       "consume              consume  object    388     0\n",
       "speed                  speed   int64    388     0\n",
       "temp_inside      temp_inside  object    376    12\n",
       "temp_outside    temp_outside   int64    388     0\n",
       "specials            specials  object     93   295\n",
       "gas_type            gas_type  object    388     0\n",
       "AC                        AC   int64    388     0\n",
       "rain                    rain   int64    388     0\n",
       "sun                      sun   int64    388     0\n",
       "refill liters  refill liters  object     13   375\n",
       "refill gas        refill gas  object     13   375"
      ]
     },
     "metadata": {},
     "output_type": "display_data"
    }
   ],
   "source": [
    "df = pd.read_csv('data/measurements.csv')\n",
    "\n",
    "# データフレームの情報を表示する関数\n",
    "# この後も何度か使うので関数として定義しておく\n",
    "def show_dataframe_info(df):\n",
    "    display(df.shape)\n",
    "    display(df.index)\n",
    "    display(pd.DataFrame({\n",
    "        'name': df.columns,\n",
    "        'dtypes': df.dtypes,\n",
    "        'count': df.count(),\n",
    "        'null': df.isnull().sum()\n",
    "    }))\n",
    "    df.head()\n",
    "\n",
    "show_dataframe_info(df)"
   ]
  },
  {
   "cell_type": "markdown",
   "metadata": {},
   "source": [
    "## 異常値と欠損値を補正する"
   ]
  },
  {
   "cell_type": "code",
   "execution_count": 53,
   "metadata": {},
   "outputs": [
    {
     "data": {
      "text/plain": [
       "(388, 12)"
      ]
     },
     "metadata": {},
     "output_type": "display_data"
    },
    {
     "data": {
      "text/plain": [
       "RangeIndex(start=0, stop=388, step=1)"
      ]
     },
     "metadata": {},
     "output_type": "display_data"
    },
    {
     "data": {
      "text/html": [
       "<div>\n",
       "<style scoped>\n",
       "    .dataframe tbody tr th:only-of-type {\n",
       "        vertical-align: middle;\n",
       "    }\n",
       "\n",
       "    .dataframe tbody tr th {\n",
       "        vertical-align: top;\n",
       "    }\n",
       "\n",
       "    .dataframe thead th {\n",
       "        text-align: right;\n",
       "    }\n",
       "</style>\n",
       "<table border=\"1\" class=\"dataframe\">\n",
       "  <thead>\n",
       "    <tr style=\"text-align: right;\">\n",
       "      <th></th>\n",
       "      <th>name</th>\n",
       "      <th>dtypes</th>\n",
       "      <th>count</th>\n",
       "      <th>null</th>\n",
       "    </tr>\n",
       "  </thead>\n",
       "  <tbody>\n",
       "    <tr>\n",
       "      <th>distance</th>\n",
       "      <td>distance</td>\n",
       "      <td>float64</td>\n",
       "      <td>388</td>\n",
       "      <td>0</td>\n",
       "    </tr>\n",
       "    <tr>\n",
       "      <th>consume</th>\n",
       "      <td>consume</td>\n",
       "      <td>float64</td>\n",
       "      <td>388</td>\n",
       "      <td>0</td>\n",
       "    </tr>\n",
       "    <tr>\n",
       "      <th>speed</th>\n",
       "      <td>speed</td>\n",
       "      <td>float64</td>\n",
       "      <td>388</td>\n",
       "      <td>0</td>\n",
       "    </tr>\n",
       "    <tr>\n",
       "      <th>temp_inside</th>\n",
       "      <td>temp_inside</td>\n",
       "      <td>float64</td>\n",
       "      <td>376</td>\n",
       "      <td>12</td>\n",
       "    </tr>\n",
       "    <tr>\n",
       "      <th>temp_outside</th>\n",
       "      <td>temp_outside</td>\n",
       "      <td>float64</td>\n",
       "      <td>388</td>\n",
       "      <td>0</td>\n",
       "    </tr>\n",
       "    <tr>\n",
       "      <th>specials</th>\n",
       "      <td>specials</td>\n",
       "      <td>object</td>\n",
       "      <td>93</td>\n",
       "      <td>295</td>\n",
       "    </tr>\n",
       "    <tr>\n",
       "      <th>gas_type</th>\n",
       "      <td>gas_type</td>\n",
       "      <td>object</td>\n",
       "      <td>388</td>\n",
       "      <td>0</td>\n",
       "    </tr>\n",
       "    <tr>\n",
       "      <th>AC</th>\n",
       "      <td>AC</td>\n",
       "      <td>float64</td>\n",
       "      <td>388</td>\n",
       "      <td>0</td>\n",
       "    </tr>\n",
       "    <tr>\n",
       "      <th>rain</th>\n",
       "      <td>rain</td>\n",
       "      <td>float64</td>\n",
       "      <td>388</td>\n",
       "      <td>0</td>\n",
       "    </tr>\n",
       "    <tr>\n",
       "      <th>sun</th>\n",
       "      <td>sun</td>\n",
       "      <td>float64</td>\n",
       "      <td>388</td>\n",
       "      <td>0</td>\n",
       "    </tr>\n",
       "    <tr>\n",
       "      <th>refill liters</th>\n",
       "      <td>refill liters</td>\n",
       "      <td>float64</td>\n",
       "      <td>13</td>\n",
       "      <td>375</td>\n",
       "    </tr>\n",
       "    <tr>\n",
       "      <th>refill gas</th>\n",
       "      <td>refill gas</td>\n",
       "      <td>object</td>\n",
       "      <td>13</td>\n",
       "      <td>375</td>\n",
       "    </tr>\n",
       "  </tbody>\n",
       "</table>\n",
       "</div>"
      ],
      "text/plain": [
       "                        name   dtypes  count  null\n",
       "distance            distance  float64    388     0\n",
       "consume              consume  float64    388     0\n",
       "speed                  speed  float64    388     0\n",
       "temp_inside      temp_inside  float64    376    12\n",
       "temp_outside    temp_outside  float64    388     0\n",
       "specials            specials   object     93   295\n",
       "gas_type            gas_type   object    388     0\n",
       "AC                        AC  float64    388     0\n",
       "rain                    rain  float64    388     0\n",
       "sun                      sun  float64    388     0\n",
       "refill liters  refill liters  float64     13   375\n",
       "refill gas        refill gas   object     13   375"
      ]
     },
     "metadata": {},
     "output_type": "display_data"
    }
   ],
   "source": [
    "# 数値の表記がおかしいので修正する\n",
    "\n",
    "# 文字列型変更 → カンマをドットに置換 → フロート型に変換\n",
    "f_comma2dot = lambda x: str(x).replace(',', '.')\n",
    "for column in ['distance', 'consume', 'speed', 'temp_inside', 'temp_outside', 'AC', 'rain', 'sun', 'refill liters']:\n",
    "    df[column] = df[column].apply(f_comma2dot).astype(float)\n",
    "\n",
    "show_dataframe_info(df)"
   ]
  },
  {
   "cell_type": "markdown",
   "metadata": {},
   "source": [
    "## 学習データとテストデータを分割"
   ]
  },
  {
   "cell_type": "code",
   "execution_count": 54,
   "metadata": {},
   "outputs": [],
   "source": [
    "# 先頭10%をテストデータ、後半90%を学習データとして扱う\n",
    "# あえてsklearn.model_selection.train_test_split()は使わない\n",
    "test_size = 0.1\n",
    "test_row_num = int(df.shape[0] * test_size) # 端数切り捨て int(x) = int(math.floor(x))\n",
    "df_test = df.iloc[:test_row_num]\n",
    "df_train = df.iloc[test_row_num:]"
   ]
  },
  {
   "cell_type": "code",
   "execution_count": null,
   "metadata": {},
   "outputs": [],
   "source": []
  }
 ],
 "metadata": {
  "kernelspec": {
   "display_name": "Python 3",
   "language": "python",
   "name": "python3"
  },
  "language_info": {
   "codemirror_mode": {
    "name": "ipython",
    "version": 3
   },
   "file_extension": ".py",
   "mimetype": "text/x-python",
   "name": "python",
   "nbconvert_exporter": "python",
   "pygments_lexer": "ipython3",
   "version": "3.6.6"
  }
 },
 "nbformat": 4,
 "nbformat_minor": 2
}
