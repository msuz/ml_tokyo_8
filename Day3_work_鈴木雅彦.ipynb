{
 "cells": [
  {
   "cell_type": "markdown",
   "metadata": {},
   "source": [
    "# Day3課題 - 鈴木雅彦"
   ]
  },
  {
   "cell_type": "markdown",
   "metadata": {},
   "source": [
    "## 前置き\n",
    "\n",
    "11/3(土)のDay3講義中に以下のことが決まった。\n",
    "- 全員で精度を競いつつ、有効な手法を共有する\n",
    "- 対象の課題は「Car Fuel Consumption」（回帰問題）で統一する\n",
    "- 先頭10%をテストデータ、残りの90%を学習用データとする\n",
    "\n",
    "鈴木はDay1,2課題にて「Kickstarter Projects」（分類問題）に取り組んでいたので１から取り組む。"
   ]
  },
  {
   "cell_type": "markdown",
   "metadata": {},
   "source": [
    "## Pythonライブラリを読み込む"
   ]
  },
  {
   "cell_type": "code",
   "execution_count": null,
   "metadata": {},
   "outputs": [],
   "source": [
    "# データハンドリング\n",
    "import numpy as np\n",
    "import pandas as pd\n",
    "\n",
    "# 可視化\n",
    "%matplotlib inline\n",
    "import matplotlib.pyplot as plt\n",
    "import seaborn as sns\n",
    "\n",
    "# 前処理\n",
    "from sklearn.preprocessing import MinMaxScaler # 正規化\n",
    "from sklearn.preprocessing import StandardScaler # 標準化\n",
    "\n",
    "# 汎化誤差検証\n",
    "from sklearn.model_selection import train_test_split # ホールドアウト法\n",
    "from sklearn.model_selection import KFold # 交差検証法\n",
    "\n",
    "# 分類問題\n",
    "from sklearn.linear_model import SGDClassifier # ロジスティック回帰\n",
    "from sklearn.metrics import confusion_matrix # 結果の可視化\n",
    "from sklearn.metrics import log_loss # 性能評価\n",
    "from sklearn.metrics import accuracy_score # 性能評価\n",
    "from sklearn.metrics import precision_score # 性能評価\n",
    "from sklearn.metrics import recall_score # 性能評価\n",
    "\n",
    "# 回帰問題\n"
   ]
  },
  {
   "cell_type": "markdown",
   "metadata": {},
   "source": [
    "## データファイルを取得する"
   ]
  },
  {
   "cell_type": "markdown",
   "metadata": {},
   "source": [
    "1. [Car Fuel Consumption | Kaggle](https://www.kaggle.com/anderas/car-consume)ページを開く\n",
    "\n",
    "1. [DownloadAll](https://www.kaggle.com/anderas/car-consume/downloads/car-consume.zip/5) リンクからZIPをダウンロードする\n",
    "\n",
    "1. ZIPを解答する\n",
    "```\n",
    "$ cd ~/Downloads\n",
    "$ unzip car-consume.zip\n",
    "```\n",
    "\n",
    "1. データファイルを作業フォルダに配置する\n",
    "```\n",
    "$ cp ~/Downloads/measurements.csv ~/Desktop/ml_tokyo_8/git/data/\n",
    "```\n",
    "\n",
    "1. gitにpushしておく\n",
    "```\n",
    "$ git add data/measurements.csv \n",
    "$ git commit -m 'https://www.kaggle.com/anderas/car-consume'\n",
    "$ git push\n",
    "```"
   ]
  },
  {
   "cell_type": "markdown",
   "metadata": {},
   "source": [
    "|型 |名称 |説明 |\n",
    "|---|-----|----|\n",
    "|# |distance        |距離 |\n",
    "|# |consume       |消費量 |\n",
    "|# |speed            |速度 |\n",
    "|# |temp_inside   |車内温度 |\n",
    "|# |temp_outside |社外温度 |\n",
    "|A |specials         |特記事項 (ACとrainの内容と重複) |\n",
    "|A |gas_type       |ガソリン種別 SP98:ハイオク, E10:バイオエタノール10％混合 |\n",
    "|# |AC                |AC電源利用有無(？) |\n",
    "|# |rain               |雨が降っていたかどうか |\n",
    "|# |sun               |晴れていたかどうか |\n",
    "|# |refill liters      |給油量 |\n",
    "|A |refill gas        |給油ガソリン種別 |"
   ]
  },
  {
   "cell_type": "code",
   "execution_count": null,
   "metadata": {},
   "outputs": [],
   "source": [
    "# ファイルの確認\n",
    "!pwd\n",
    "!wc data/measurements.csv"
   ]
  },
  {
   "cell_type": "markdown",
   "metadata": {},
   "source": [
    "## データファイルの読み込む"
   ]
  },
  {
   "cell_type": "code",
   "execution_count": null,
   "metadata": {},
   "outputs": [],
   "source": [
    "df = pd.read_csv('data/measurements.csv')\n",
    "\n",
    "# データフレームの情報を表示する関数\n",
    "# この後も何度か使うので関数として定義しておく\n",
    "def show_dataframe_info(df):\n",
    "    display(df.shape)\n",
    "    display(df.index)\n",
    "    display(pd.DataFrame({\n",
    "        'name': df.columns,\n",
    "        'dtypes': df.dtypes,\n",
    "        'count': df.count(),\n",
    "        'null': df.isnull().sum()\n",
    "    }))\n",
    "    df.head()\n",
    "\n",
    "show_dataframe_info(df)"
   ]
  },
  {
   "cell_type": "markdown",
   "metadata": {},
   "source": [
    "## 異常値と欠損値を補正する"
   ]
  },
  {
   "cell_type": "code",
   "execution_count": null,
   "metadata": {},
   "outputs": [],
   "source": [
    "# 数値の表記がおかしいので修正する\n",
    "\n",
    "# 文字列型変更 → カンマをドットに置換 → フロート型に変換\n",
    "f_comma2dot = lambda x: str(x).replace(',', '.')\n",
    "for column in ['distance', 'consume', 'speed', 'temp_inside', 'temp_outside', 'AC', 'rain', 'sun', 'refill liters']:\n",
    "    df[column] = df[column].apply(f_comma2dot).astype(float)\n",
    "\n",
    "show_dataframe_info(df)"
   ]
  },
  {
   "cell_type": "code",
   "execution_count": null,
   "metadata": {},
   "outputs": [],
   "source": [
    "# temp_inside(車内温度)の欠損値をどうするか\n",
    "\n",
    "# 直感的にはtemp_outside(社外温度)との相関が強そう\n",
    "df.plot(x='temp_outside', y='temp_inside', kind='scatter')\n",
    "plt.show()\n",
    "display(df[['temp_outside', 'temp_inside']].corr())\n",
    "\n",
    "# だが実はそうでもない。\n",
    "# 線形回帰で求めてもそんなに精度は上がらなそう\n",
    "\n",
    "# もし平均値で埋めるならこうかなーと思ったけど、\n",
    "# df['temp_inside'] = df['temp_inside'].fillna(df['temp_inside'].mean())\n",
    "\n",
    "# 実データを見ると同じような値が連続で並んでいる事に気が付いたのでfillを使う\n",
    "df['temp_inside'] = df['temp_inside'].fillna(method='ffill')\n",
    "\n",
    "show_dataframe_info(df)"
   ]
  },
  {
   "cell_type": "code",
   "execution_count": null,
   "metadata": {},
   "outputs": [],
   "source": [
    "# refill liters(給油量)は0で埋める\n",
    "# この列はどうせconsume(消費量)と足し合わせて使うんだろうけど、\n",
    "# 途中の計算処理でつまづくと面倒なので念のため処理しておく。\n",
    "df['refill liters'] = df['refill liters'].fillna(0.0)\n",
    "\n",
    "show_dataframe_info(df)"
   ]
  },
  {
   "cell_type": "code",
   "execution_count": null,
   "metadata": {},
   "outputs": [],
   "source": [
    "# refill gas(給油ガソリン種別)はgas_type(ガソリン種別)に準じる\n",
    "# と思ったけどこの列は使わなそうだから放っておこう"
   ]
  },
  {
   "cell_type": "code",
   "execution_count": null,
   "metadata": {},
   "outputs": [],
   "source": [
    "# specials(特記事項)はgas_type(ガソリン種別)とrain(雨が降っていたかどうか)で説明されている\n",
    "# この列は使わないから放っておこう"
   ]
  },
  {
   "cell_type": "markdown",
   "metadata": {},
   "source": [
    "### 蛇足\n",
    "- ある列の値を他の列の値を元に決定したい時、`df.apply(func, axis=1)` だと遅い。\n",
    "- インデックス(index)に対してapply()を回して各列の辞書(to_dict)にアクセスすると500倍高速になる。\n",
    "- [pandasで複数カラムを参照して高速に1行1行値を調整する際のメモ - Qiita](https://qiita.com/simonritchie/items/dd737a52cf32b662675c)"
   ]
  },
  {
   "cell_type": "markdown",
   "metadata": {},
   "source": [
    "## 学習データとテストデータを分割"
   ]
  },
  {
   "cell_type": "code",
   "execution_count": null,
   "metadata": {},
   "outputs": [],
   "source": [
    "# 先頭10%をテストデータ、後半90%を学習データとして扱う\n",
    "# あえてsklearn.model_selection.train_test_split()は使わない\n",
    "test_size = 0.1\n",
    "test_row_num = int(df.shape[0] * test_size) # 端数切り捨て int(x) = int(math.floor(x))\n",
    "df_test = df.iloc[:test_row_num]\n",
    "df_train = df.iloc[test_row_num:]"
   ]
  },
  {
   "cell_type": "code",
   "execution_count": null,
   "metadata": {},
   "outputs": [],
   "source": []
  }
 ],
 "metadata": {
  "kernelspec": {
   "display_name": "Python 3",
   "language": "python",
   "name": "python3"
  },
  "language_info": {
   "codemirror_mode": {
    "name": "ipython",
    "version": 3
   },
   "file_extension": ".py",
   "mimetype": "text/x-python",
   "name": "python",
   "nbconvert_exporter": "python",
   "pygments_lexer": "ipython3",
   "version": "3.6.6"
  }
 },
 "nbformat": 4,
 "nbformat_minor": 2
}
