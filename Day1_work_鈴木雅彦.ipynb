{
 "cells": [
  {
   "cell_type": "markdown",
   "metadata": {},
   "source": [
    "# Day1宿題 - 鈴木雅彦"
   ]
  },
  {
   "cell_type": "markdown",
   "metadata": {},
   "source": [
    "## 1. 課題のデータをダウンロードする"
   ]
  },
  {
   "cell_type": "markdown",
   "metadata": {},
   "source": [
    "1. Kaggleにアカウントを作成する\n",
    "1. [Kickstarter Projects | Kaggle](https://www.kaggle.com/kemical/kickstarter-projects) を開く\n",
    "1. Download Allのリンクからファイルをダウンロードする\n",
    "1. ZIPを解凍して作業用ディレクトリに配置する\n",
    "~~~sh\n",
    "$ unzip kickstarter-projects.zip\n",
    "$ mv ks-projects-*.csv ~/Desktop/ml_tokyo_8/git/data/\n",
    "~~~"
   ]
  },
  {
   "cell_type": "code",
   "execution_count": null,
   "metadata": {},
   "outputs": [],
   "source": []
  },
  {
   "cell_type": "code",
   "execution_count": null,
   "metadata": {},
   "outputs": [],
   "source": []
  },
  {
   "cell_type": "code",
   "execution_count": null,
   "metadata": {},
   "outputs": [],
   "source": []
  },
  {
   "cell_type": "code",
   "execution_count": null,
   "metadata": {},
   "outputs": [],
   "source": []
  },
  {
   "cell_type": "markdown",
   "metadata": {},
   "source": [
    "## 2. 変数の関係を関係をグラフで確認する"
   ]
  },
  {
   "cell_type": "markdown",
   "metadata": {},
   "source": [
    "## 3. 有効な説明変数を見つける"
   ]
  },
  {
   "cell_type": "markdown",
   "metadata": {},
   "source": [
    "## 4. 線形回帰/ロジスティック回帰を適用する"
   ]
  },
  {
   "cell_type": "markdown",
   "metadata": {},
   "source": [
    "## 5. 予測精度/識別精度を確認する"
   ]
  },
  {
   "cell_type": "markdown",
   "metadata": {},
   "source": [
    "## 6. Githubで公開する"
   ]
  },
  {
   "cell_type": "markdown",
   "metadata": {},
   "source": [
    "~~~sh\n",
    "$ cd ~/Desktop/ml_tokyo_8/git\n",
    "$ git checkout -b day1\n",
    "\n",
    "$ git status\n",
    "$ git add Day1_work_鈴木雅彦.ipynb .ipynb_checkpoints/\n",
    "$ git commit -m 'xxxxx'\n",
    "\n",
    "$ git push origin day1\n",
    "~~~"
   ]
  },
  {
   "cell_type": "markdown",
   "metadata": {},
   "source": [
    "[ml_tokyo_8/Day1_work_鈴木雅彦.ipynb at day1 · msuz/ml_tokyo_8](https://github.com/msuz/ml_tokyo_8/blob/day1/Day1_work_%E9%88%B4%E6%9C%A8%E9%9B%85%E5%BD%A6.ipynb)"
   ]
  },
  {
   "cell_type": "code",
   "execution_count": null,
   "metadata": {},
   "outputs": [],
   "source": []
  },
  {
   "cell_type": "code",
   "execution_count": null,
   "metadata": {},
   "outputs": [],
   "source": []
  },
  {
   "cell_type": "code",
   "execution_count": null,
   "metadata": {},
   "outputs": [],
   "source": []
  },
  {
   "cell_type": "code",
   "execution_count": null,
   "metadata": {},
   "outputs": [],
   "source": []
  },
  {
   "cell_type": "code",
   "execution_count": null,
   "metadata": {},
   "outputs": [],
   "source": []
  }
 ],
 "metadata": {
  "kernelspec": {
   "display_name": "Python 3",
   "language": "python",
   "name": "python3"
  },
  "language_info": {
   "codemirror_mode": {
    "name": "ipython",
    "version": 3
   },
   "file_extension": ".py",
   "mimetype": "text/x-python",
   "name": "python",
   "nbconvert_exporter": "python",
   "pygments_lexer": "ipython3",
   "version": "3.6.6"
  }
 },
 "nbformat": 4,
 "nbformat_minor": 2
}
